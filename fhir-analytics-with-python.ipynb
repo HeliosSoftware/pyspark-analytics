{
 "cells": [
  {
   "cell_type": "code",
   "execution_count": 41,
   "metadata": {},
   "outputs": [],
   "source": [
    "\n",
    "from pyspark.sql import SparkSession\n",
    "from pyspark.sql.functions import col,upper,udf,element_at,explode,regexp_replace,size\n",
    "import pyspark.sql.functions as F\n",
    "from pyspark.sql.types import StringType, DateType\n",
    "\n",
    "from pyspark.ml.feature import OneHotEncoder, StringIndexer, VectorAssembler\n",
    "from pyspark.ml import Pipeline\n",
    "from pyspark.ml.regression import LinearRegression\n",
    "\n",
    "import os\n",
    "\n",
    "spark = SparkSession \\\n",
    "    .builder \\\n",
    "    .appName(\"FHIR Analytics with Python\") \\\n",
    "    .getOrCreate()\n",
    "keyspace = \"myCatalog.hfs_data\"\n"
   ]
  },
  {
   "cell_type": "code",
   "execution_count": 2,
   "metadata": {},
   "outputs": [],
   "source": [
    "spark.conf.set(\"spark.sql.catalog.myCatalog\", \"com.datastax.spark.connector.datasource.CassandraCatalog\")\n",
    "spark.conf.set(\"spark.cassandra.input.split.sizeInMB\", \"67108864\")"
   ]
  },
  {
   "cell_type": "code",
   "execution_count": 3,
   "metadata": {},
   "outputs": [],
   "source": [
    "def getMaritalStatus(ms):\n",
    "    return ms.text_\n",
    "gms = udf(getMaritalStatus, StringType())\n",
    "def getBirthDate(bd):\n",
    "    return bd[0]\n",
    "gbd = udf(getBirthDate, DateType())\n",
    "\n",
    "def getAvgForLoinc(loinc_code, agg_column, df):\n",
    "    return df.filter(col(\"LoincCode\").like(loinc_code)) \\\n",
    "                         .withColumnRenamed(\"ValueQuantity\", agg_column) \\\n",
    "                         .select(col(\"Subject\"), col(agg_column)) \\\n",
    "                         .groupBy(\"Subject\").agg(F.round(F.avg(col(agg_column)), 3).alias(agg_column))"
   ]
  },
  {
   "cell_type": "code",
   "execution_count": 4,
   "metadata": {},
   "outputs": [],
   "source": [
    "rawPatient = spark.read.table(keyspace + \".patient\")\n",
    "rawReference = spark.read.table(keyspace + \".reference\")\n",
    "#rawReference = spark.read.format(\"org.apache.spark.sql.cassandra\").options(**{\"table\": \"reference\",\"keyspace\": \"hfs_data\"}).load()\n",
    "#rawObservation = spark.read.format(\"org.apache.spark.sql.cassandra\").options(**{\"table\": \"observation\",\"keyspace\": \"hfs_data\"}).load()\n",
    "rawObservation = spark.read.table(keyspace + \".observation\")\n",
    "rawEncounter = spark.read.table(keyspace + \".encounter\")"
   ]
  },
  {
   "cell_type": "code",
   "execution_count": 5,
   "metadata": {},
   "outputs": [],
   "source": [
    "patientDataFrame = rawPatient.select(col(\"id\").alias(\"PatientId\"), gms(col(\"maritalstatus\")).alias(\"Marital Status\"), col(\"birthdate\")[\"0\"].alias(\"birthdate\"), upper(col(\"gender\")).alias(\"Gender\")).withColumn(\"Age\", F.round(F.datediff(F.current_date(), F.to_date(col(\"birthdate\"))) / 365, 1))\n",
    "#patientDataFrame = patientDataFrame.withColumn(\"gender\", upper(col(\"gender\")))\n",
    "#patientDataFrame = patientDataFrame.withColumnRenamed(\"maritalstatus_trunc\", \"maritalstatus\")"
   ]
  },
  {
   "cell_type": "code",
   "execution_count": 6,
   "metadata": {},
   "outputs": [],
   "source": [
    "# select only Patient references and manipulate the column values so they are ready for joining with other tables\n",
    "\n",
    "referenceDataFrame = rawReference.where(rawReference.reference.like(\"Patient%\")).select(regexp_replace(rawReference.id, \"#hidden\", \"\").alias(\"id\"), regexp_replace(rawReference.reference, \"Patient/\", \"\").alias(\"reference\"))"
   ]
  },
  {
   "cell_type": "code",
   "execution_count": 7,
   "metadata": {},
   "outputs": [
    {
     "data": {
      "text/plain": [
       "321587"
      ]
     },
     "execution_count": 7,
     "metadata": {},
     "output_type": "execute_result"
    }
   ],
   "source": [
    "referenceDataFrame.count()"
   ]
  },
  {
   "cell_type": "code",
   "execution_count": 8,
   "metadata": {},
   "outputs": [
    {
     "data": {
      "text/plain": [
       "DataFrame[id: string, reference: string]"
      ]
     },
     "execution_count": 8,
     "metadata": {},
     "output_type": "execute_result"
    }
   ],
   "source": [
    "referenceDataFrame.cache()"
   ]
  },
  {
   "cell_type": "code",
   "execution_count": 9,
   "metadata": {},
   "outputs": [],
   "source": [
    "# rename some observation columns AND join with reference table to resolve Patient ID references properly\n",
    "\n",
    "observationDataFrame = rawObservation.select(col(\"id\").alias(\"ObservationId\"), col(\"code\"), col(\"component\"), col(\"valuequantity\"), col(\"subject\").alias(\"PatientReferenceId\"))\n",
    "observationDataFrame = referenceDataFrame.join(observationDataFrame, referenceDataFrame.id == observationDataFrame.PatientReferenceId) \\\n",
    "                  .withColumn(\"id\", col(\"id\").cast(StringType())).withColumn(\"reference\", col(\"reference\").cast(StringType())) \\\n",
    "                  .withColumnRenamed('reference', \"PatientId\") \\\n",
    "                  .drop(col(\"id\")) \\\n",
    "                  .drop(col(\"PatientReferenceId\"))\n",
    "\n",
    "\n"
   ]
  },
  {
   "cell_type": "code",
   "execution_count": 10,
   "metadata": {},
   "outputs": [],
   "source": [
    "# Filter and select LOINC information from observation dataframe\n",
    "\n",
    "observationDataFrame_loinc = observationDataFrame \\\n",
    "    .select(col(\"PatientId\").alias(\"Subject\"), \\\n",
    "            col(\"ObservationId\"), \\\n",
    "            col(\"code\").coding[0].code.alias(\"LoincCode\"), \\\n",
    "            col(\"valuequantity\").value.alias(\"ValueQuantity\"))\n",
    "\n",
    "loinc_code_list = [\"8480-6\", \"8462-4\",\"29463-7\",\"8302-2\",\"33914-3\",\"2571-8\",\"2085-9\",\"18262-6\",\"2093-3\",\"39156-5\",\"55284-4\", \"195967001\", \"233678006\"]\n",
    "\n",
    "\n",
    "observationDataFrame_loinc = observationDataFrame_loinc \\\n",
    "    .filter(col(\"LoincCode\").isin(loinc_code_list))\\\n",
    "    .na.drop()"
   ]
  },
  {
   "cell_type": "code",
   "execution_count": 11,
   "metadata": {},
   "outputs": [
    {
     "data": {
      "text/plain": [
       "130760"
      ]
     },
     "execution_count": 11,
     "metadata": {},
     "output_type": "execute_result"
    }
   ],
   "source": [
    "observationDataFrame.count()"
   ]
  },
  {
   "cell_type": "code",
   "execution_count": 12,
   "metadata": {},
   "outputs": [
    {
     "data": {
      "text/plain": [
       "DataFrame[Subject: string, ObservationId: string, LoincCode: string, ValueQuantity: decimal(38,18)]"
      ]
     },
     "execution_count": 12,
     "metadata": {},
     "output_type": "execute_result"
    }
   ],
   "source": [
    "observationDataFrame_loinc.cache()"
   ]
  },
  {
   "cell_type": "code",
   "execution_count": 13,
   "metadata": {},
   "outputs": [],
   "source": [
    "# Select only Body Weight observations from pre-filtered observation data frame\n",
    "\n",
    "body_weight_df = observationDataFrame_loinc \\\n",
    "    .filter(col(\"LoincCode\").like(\"%29463-7%\")) \\\n",
    "    .withColumnRenamed(\"ValueQuantity\", \"Body Weight\") \\\n",
    "    .select(col(\"Subject\"), col(\"Body Weight\")) \\\n",
    "    .na.drop() \\\n",
    "    .dropDuplicates()"
   ]
  },
  {
   "cell_type": "code",
   "execution_count": 14,
   "metadata": {},
   "outputs": [],
   "source": [
    "# Calculate Systolic, Dystolic and total BP, then avg per patient\n",
    "\n",
    "blood_pressure_df = observationDataFrame.select(col(\"PatientId\").alias(\"Subject\"),\n",
    "                          \"ObservationId\",\n",
    "                          col(\"component\")[0].code.coding[0].code.alias(\"DBPCode\"), \\\n",
    "                          col(\"component\")[0].valuequantity.value.alias(\"Diastolic Blood Pressure\"), \\\n",
    "                          col(\"component\")[1].code.coding[0].code.alias(\"SBPCode\"), \\\n",
    "                          col(\"component\")[1].valuequantity.value.alias(\"Systolic Blood Pressure\")).na.drop()\n",
    "\n",
    "\n",
    "\n",
    "blood_pressure_df = blood_pressure_df.withColumn(\"Blood Pressure\", \\\n",
    "      F.round(col(\"Diastolic Blood Pressure\")+(col(\"Systolic Blood Pressure\") - col(\"Diastolic Blood Pressure\"))/3))\n",
    "\n",
    "blood_pressure_avg_df = blood_pressure_df.groupBy(col(\"Subject\")).agg(F.round(F.avg(\"Diastolic Blood Pressure\"), 3).alias(\"Diastolic BP\"), \\\n",
    "                                           F.round(F.avg(\"Systolic Blood Pressure\"), 3).alias(\"Systolic BP\"), \\\n",
    "                                           F.round(F.avg(\"Blood Pressure\"), 3).alias(\"BP\") \\\n",
    "                                          )\n"
   ]
  },
  {
   "cell_type": "code",
   "execution_count": 15,
   "metadata": {},
   "outputs": [],
   "source": [
    "# Select all encounters that show as Asthma diagnoses\n",
    "\n",
    "encounterDataFrame = rawEncounter.filter(F.size(col(\"reasoncode\")) > 0).select(col(\"subject\"), col(\"reasoncode\")[0].coding[0][\"code\"].alias(\"Asthma\")) \\\n",
    "                                 .withColumn(\"Asthma\", F.when(col(\"Asthma\").isin([\"195967001\",\"233678006\"]), F.lit(1)).otherwise(F.lit(0)))\n",
    "\n",
    "encounterDataFrame = encounterDataFrame.join(referenceDataFrame, encounterDataFrame.subject == referenceDataFrame.id) \\\n",
    "                                               .drop(\"subject\", \"id\") \\\n",
    "                                               .withColumnRenamed(\"reference\", \"subject\")\n",
    "\n",
    "encounterDataFrame_asthma = encounterDataFrame.groupBy(\"subject\").agg(F.max(col(\"Asthma\")).alias(\"Asthma\"))"
   ]
  },
  {
   "cell_type": "code",
   "execution_count": 16,
   "metadata": {},
   "outputs": [],
   "source": [
    "# Calculate avg body weight per patient and join with patient data frame\n",
    "\n",
    "patient_calc_df = body_weight_df.groupBy(\"Subject\").agg(F.round(F.avg(\"Body Weight\"), 3).alias(\"Body Weight\")) \\\n",
    "                                .join(patientDataFrame, body_weight_df.Subject == patientDataFrame.PatientId) \\\n",
    "                                .drop(\"Subject\")\n",
    "\n",
    "# Add literal demo info to patients\n",
    "patient_calc_df = patient_calc_df.dropDuplicates() \\\n",
    "                                 .withColumn(\"Disease\", F.array(F.lit(\"0\"))) \\\n",
    "                                 .withColumn(\"PostalCode\", F.array(F.lit(\"0\")))\n",
    "\n",
    "# Join BP info by patient\n",
    "patient_calc_df = blood_pressure_avg_df.join(patient_calc_df, \\\n",
    "                                             blood_pressure_avg_df.Subject == patient_calc_df.PatientId) \\\n",
    "                                       .drop(\"Subject\")\n",
    "\n",
    "# Join asthma info by patient\n",
    "patient_calc_df = encounterDataFrame_asthma.join(patient_calc_df, encounterDataFrame_asthma.subject == patient_calc_df.PatientId) \\\n",
    "                   .dropDuplicates() \\\n",
    "                   .drop(col(\"subject\"))\n",
    "\n",
    "# Calculate and join avg triglycerides by patient\n",
    "triglycerides_df = getAvgForLoinc(\"%2571-8%\", \"Triglycerides\", observationDataFrame_loinc)\n",
    "\n",
    "patient_calc_df = patient_calc_df.join(triglycerides_df, patient_calc_df.PatientId == triglycerides_df.Subject) \\\n",
    "                                 .drop(col(\"Subject\"))\n",
    "\n",
    "# Calculate and join average EGFR by patient\n",
    "egfrLoincCode = [\"88294-4\", \"33914-3\"]\n",
    "agg_column = \"Estimated Glomerular Filtration Rate\"\n",
    "\n",
    "egfr_df = observationDataFrame_loinc.select(col(\"Subject\"), col(\"LoincCode\"), col(\"ValueQuantity\")) \\\n",
    "                                 .filter(col(\"LoincCode\").isin(egfrLoincCode)) \\\n",
    "                                 .withColumn(agg_column, col(\"ValueQuantity\")) \\\n",
    "                                 .groupBy(\"Subject\").agg(F.round(F.avg(col(agg_column))).alias(agg_column))\n",
    "\n",
    "patient_calc_df = patient_calc_df.join(egfr_df, patient_calc_df.PatientId == egfr_df.Subject) \\\n",
    "                                 .drop(col(\"Subject\"))\n",
    "\n",
    "# Calculate and join avg LDL by patient\n",
    "ldl_df = getAvgForLoinc(\"%18262-6%\", \"Low Density Lipoprotein\", observationDataFrame_loinc)\n",
    "\n",
    "patient_calc_df = patient_calc_df.join(ldl_df, patient_calc_df.PatientId == ldl_df.Subject) \\\n",
    "                   .dropDuplicates().drop(col(\"Subject\"))\n",
    "\n",
    "# Calculate and join average LDL by patient\n",
    "hdl_df = getAvgForLoinc(\"%2085-9%\", \"High Density Lipoprotein Cholesterol\", observationDataFrame_loinc)\n",
    "\n",
    "patient_calc_df = patient_calc_df.join(hdl_df, patient_calc_df.PatientId == hdl_df.Subject) \\\n",
    "                   .drop(col(\"Subject\"))\n",
    "\n",
    "# Calculate and join average height by patient\n",
    "height_df = getAvgForLoinc(\"%8302-2%\", \"Body Height\", observationDataFrame_loinc)\n",
    "\n",
    "patient_calc_df = patient_calc_df.join(height_df, patient_calc_df.PatientId == height_df.Subject) \\\n",
    "                   .drop(col(\"Subject\"))\n",
    "\n",
    "#Calculate and join average BMI by patient\n",
    "bmi_df = getAvgForLoinc(\"%39156-5%\", \"BMI\", observationDataFrame_loinc)\n",
    "    \n",
    "patient_calc_df = patient_calc_df.join(bmi_df, patient_calc_df.PatientId == bmi_df.Subject) \\\n",
    "                   .drop(col(\"Subject\"))\n",
    "\n",
    "#Calculate and join average cholesterol by patient\n",
    "cholesterol_df = getAvgForLoinc(\"%2093-3%\", \"Total Cholesterol\", observationDataFrame_loinc)\n",
    "\n",
    "patient_calc_df = patient_calc_df.join(cholesterol_df, patient_calc_df.PatientId == cholesterol_df.Subject) \\\n",
    "                   .drop(col(\"Subject\"))\n"
   ]
  },
  {
   "cell_type": "code",
   "execution_count": 44,
   "metadata": {},
   "outputs": [],
   "source": [
    "asthma_dataset = patient_calc_df.drop(\"PatientId\", \"Disease\", \"PostalCode\", \"birthdate\", \"Diagnosed Date\").na.drop()"
   ]
  },
  {
   "cell_type": "code",
   "execution_count": 45,
   "metadata": {},
   "outputs": [
    {
     "data": {
      "text/plain": [
       "['Asthma',\n",
       " 'Diastolic BP',\n",
       " 'Systolic BP',\n",
       " 'BP',\n",
       " 'Body Weight',\n",
       " 'Marital Status',\n",
       " 'Gender',\n",
       " 'Age',\n",
       " 'Triglycerides',\n",
       " 'Estimated Glomerular Filtration Rate',\n",
       " 'Low Density Lipoprotein',\n",
       " 'High Density Lipoprotein Cholesterol',\n",
       " 'Body Height',\n",
       " 'BMI',\n",
       " 'Total Cholesterol']"
      ]
     },
     "execution_count": 45,
     "metadata": {},
     "output_type": "execute_result"
    }
   ],
   "source": [
    "asthma_dataset.schema.names"
   ]
  },
  {
   "cell_type": "code",
   "execution_count": 19,
   "metadata": {},
   "outputs": [
    {
     "data": {
      "text/plain": [
       "DataFrame[Asthma: int, Diastolic BP: decimal(38,3), Systolic BP: decimal(38,3), BP: decimal(38,3), Body Weight: decimal(38,3), Marital Status: string, birthdate: date, Gender: string, Age: double, Triglycerides: decimal(38,3), Estimated Glomerular Filtration Rate: decimal(38,0), Low Density Lipoprotein: decimal(38,3), High Density Lipoprotein Cholesterol: decimal(38,3), Body Height: decimal(38,3), BMI: decimal(38,3), Total Cholesterol: decimal(38,3)]"
      ]
     },
     "execution_count": 19,
     "metadata": {},
     "output_type": "execute_result"
    }
   ],
   "source": [
    "asthma_dataset.cache()"
   ]
  },
  {
   "cell_type": "code",
   "execution_count": 20,
   "metadata": {},
   "outputs": [
    {
     "name": "stdout",
     "output_type": "stream",
     "text": [
      "+------+------------+-----------+-------+-----------+--------------+----------+------+-----+-------------+------------------------------------+-----------------------+------------------------------------+-----------+------+-----------------+\n",
      "|Asthma|Diastolic BP|Systolic BP|     BP|Body Weight|Marital Status| birthdate|Gender|  Age|Triglycerides|Estimated Glomerular Filtration Rate|Low Density Lipoprotein|High Density Lipoprotein Cholesterol|Body Height|   BMI|Total Cholesterol|\n",
      "+------+------------+-----------+-------+-----------+--------------+----------+------+-----+-------------+------------------------------------+-----------------------+------------------------------------+-----------+------+-----------------+\n",
      "|     1|      73.693|    119.458| 89.000|     77.300|             M|1943-07-09|  MALE| 77.6|      126.036|                                  32|                112.191|                              67.250|    166.300|27.950|          201.869|\n",
      "|     0|      80.417|    112.417| 91.083|     76.400|             M|1961-03-16|FEMALE| 59.9|      140.046|                                  71|                108.387|                              61.023|    161.700|29.221|          177.341|\n",
      "|     0|      80.429|    118.429| 93.143|     96.925|             M|1986-08-12|  MALE| 34.5|      138.760|                                  14|                 71.680|                              65.580|    184.900|28.480|          165.020|\n",
      "|     0|      79.500|    123.750| 94.000|     99.600|             S|1946-11-05|  MALE| 74.3|      207.753|                                  75|                126.382|                              55.424|    181.400|30.270|          196.670|\n",
      "|     0|      68.871|     99.837| 79.071|     83.100|             M|1946-08-29|  MALE| 74.5|      159.604|                                  79|                100.364|                              62.140|    169.700|28.373|          189.533|\n",
      "|     0|      77.909|    122.864| 92.773|     75.850|             M|1963-12-31|FEMALE| 57.1|      144.790|                                  39|                105.771|                              60.541|    160.300|29.791|          172.012|\n",
      "|     0|     106.000|    156.571|122.905|     89.578|             M|1978-09-02|  MALE| 42.4|      104.583|                                  10|                 79.473|                              74.833|    179.800|27.706|          175.223|\n",
      "|     0|      82.000|    118.500| 94.188|     71.120|             M|1970-01-26|FEMALE| 51.0|      123.643|                                  10|                 82.497|                              71.330|    157.100|28.812|          178.553|\n",
      "|     0|      79.000|    118.615| 92.231|     92.500|             S|1966-01-17|  MALE| 55.1|      131.464|                                  97|                 93.828|                              65.453|    175.400|30.070|          185.575|\n",
      "|     0|      76.778|    123.389| 92.278|     84.700|             M|1978-04-22|  MALE| 42.8|      114.840|                                   8|                 77.230|                              68.630|    168.000|30.010|          168.830|\n",
      "|     0|      71.433|    107.597| 83.500|     96.027|             M|1973-10-11|  MALE| 47.3|      123.323|                                  11|                 82.140|                              71.240|    182.100|29.062|          178.043|\n",
      "|     0|      78.900|    123.650| 93.750|     76.400|             M|1958-03-18|  MALE| 62.9|      124.956|                                  18|                 95.506|                              64.265|    165.000|28.060|          185.696|\n",
      "|     1|     105.208|    161.917|124.083|     83.733|             M|1964-09-21|  MALE| 56.4|      124.483|                                   9|                100.860|                              65.550|    169.400|29.698|          191.307|\n",
      "|     0|     105.333|    154.083|121.667|     74.300|             M|1911-08-08|FEMALE|109.6|      135.836|                                  81|                 99.022|                              50.918|    165.000|27.290|          181.992|\n",
      "|     0|      77.087|    112.217| 88.762|     75.700|             M|1932-06-29|FEMALE| 88.6|      120.497|                                  10|                 92.363|                              65.893|    164.800|27.870|          182.353|\n",
      "|     0|      79.938|    126.500| 95.375|     97.214|             M|1970-01-14|  MALE| 51.1|      119.473|                                  10|                 78.583|                              70.640|    183.400|29.273|          173.120|\n",
      "|     0|      77.778|    113.333| 89.556|     77.600|             M|1947-03-07|FEMALE| 74.0|      142.183|                                  92|                 96.789|                              56.261|    163.700|29.824|          185.812|\n",
      "|     0|      77.038|    120.923| 91.654|     88.600|             M|1961-08-05|  MALE| 59.5|      125.067|                                  55|                 88.473|                              70.992|    170.800|30.370|          184.477|\n",
      "|     0|      78.667|    117.583| 91.500|     69.400|             M|1925-04-02|FEMALE| 95.9|      164.789|                                  87|                129.319|                              52.131|    158.300|27.690|          208.881|\n",
      "|     0|      78.455|    117.864| 91.546|     88.550|             M|1961-01-27|  MALE| 60.0|      136.010|                                   9|                 82.780|                              66.340|    177.600|27.837|          176.320|\n",
      "+------+------------+-----------+-------+-----------+--------------+----------+------+-----+-------------+------------------------------------+-----------------------+------------------------------------+-----------+------+-----------------+\n",
      "only showing top 20 rows\n",
      "\n"
     ]
    }
   ],
   "source": [
    "asthma_dataset.show()"
   ]
  },
  {
   "cell_type": "code",
   "execution_count": 21,
   "metadata": {},
   "outputs": [
    {
     "data": {
      "text/plain": [
       "125"
      ]
     },
     "execution_count": 21,
     "metadata": {},
     "output_type": "execute_result"
    }
   ],
   "source": [
    "asthma_dataset.count()"
   ]
  },
  {
   "cell_type": "code",
   "execution_count": 23,
   "metadata": {},
   "outputs": [
    {
     "data": {
      "text/plain": [
       "5"
      ]
     },
     "execution_count": 23,
     "metadata": {},
     "output_type": "execute_result"
    }
   ],
   "source": [
    "asthma_dataset.filter(col(\"Asthma\") == 1).count()"
   ]
  },
  {
   "cell_type": "code",
   "execution_count": 46,
   "metadata": {},
   "outputs": [
    {
     "name": "stdout",
     "output_type": "stream",
     "text": [
      "There are 103 rows in the training set and 22 in the test set\n"
     ]
    }
   ],
   "source": [
    "trainDF, testDF = asthma_dataset.randomSplit([.8, .2], seed = 42)\n",
    "print(f\"\"\"There are {trainDF.count()} rows in the training set and {testDF.count()} in the test set\"\"\")"
   ]
  },
  {
   "cell_type": "code",
   "execution_count": 47,
   "metadata": {},
   "outputs": [],
   "source": [
    "categoricalCols = [field for (field, dataType) in trainDF.dtypes if dataType == \"string\"]\n",
    "indexOutputCols = [x + \"Index\" for x in categoricalCols]\n",
    "oheOutputCols = [x + \"OHE\" for x in categoricalCols]\n",
    "\n",
    "stringIndexer = StringIndexer(inputCols = categoricalCols, outputCols = indexOutputCols, handleInvalid = \"skip\")\n",
    "oheEncoder = OneHotEncoder(inputCols = indexOutputCols, outputCols = oheOutputCols)\n",
    "\n",
    "numericCols = [field for (field, dataType) in trainDF.dtypes\n",
    "                if dataType != \"string\" and field != \"Asthma\"]\n",
    "\n",
    "assemblerInputs = oheOutputCols + numericCols\n",
    "\n",
    "vecAssembler = VectorAssembler(inputCols = assemblerInputs, outputCol = \"features\")"
   ]
  },
  {
   "cell_type": "code",
   "execution_count": 48,
   "metadata": {},
   "outputs": [],
   "source": [
    "lr = LinearRegression(labelCol = \"Asthma\", featuresCol = \"features\")\n",
    "pipeline = Pipeline(stages = [stringIndexer, oheEncoder, vecAssembler, lr])\n",
    "\n",
    "pipelineModel = pipeline.fit(trainDF)"
   ]
  },
  {
   "cell_type": "code",
   "execution_count": 53,
   "metadata": {},
   "outputs": [
    {
     "name": "stdout",
     "output_type": "stream",
     "text": [
      "+--------------------+------+--------------------+\n",
      "|            features|Asthma|          prediction|\n",
      "+--------------------+------+--------------------+\n",
      "|[1.0,0.0,80.417,1...|     0|0.029171343606225975|\n",
      "|[1.0,1.0,80.429,1...|     0|-0.04980751139079653|\n",
      "|[1.0,1.0,76.778,1...|     0| 0.11803101024322626|\n",
      "|[1.0,1.0,71.433,1...|     0| 0.10857709677112193|\n",
      "|[1.0,1.0,79.938,1...|     0| 0.07748964013421866|\n",
      "|[1.0,1.0,78.688,1...|     0| 0.15204345040755762|\n",
      "|[0.0,0.0,87.5,120...|     0|-0.21552369335368415|\n",
      "|[1.0,1.0,71.05,10...|     0| 0.13885747464551357|\n",
      "|[0.0,0.0,80.727,1...|     0| -0.1648409311161081|\n",
      "|[1.0,0.0,100.034,...|     0|  0.0767006289489165|\n",
      "|[1.0,0.0,57.444,8...|     0|-0.00500094701028...|\n",
      "|[1.0,0.0,90.23,13...|     0| 0.12223990978552046|\n",
      "|[0.0,1.0,78.652,1...|     0| 0.03548234089319435|\n",
      "|[1.0,0.0,75.787,1...|     0|  0.0683026717273798|\n",
      "|[1.0,0.0,74.667,1...|     0| 0.14782819626331922|\n",
      "|[1.0,1.0,82.417,1...|     0| 0.10487360760423137|\n",
      "|[1.0,0.0,77.977,1...|     0| 0.10790487785874237|\n",
      "|[1.0,1.0,82.235,1...|     0| 0.21538460954612204|\n",
      "|[1.0,0.0,62.796,9...|     0| 0.10813565738029385|\n",
      "|[1.0,0.0,74.5,117...|     0| 0.07970319289584338|\n",
      "|[1.0,0.0,76.364,1...|     0|-3.30552566112363...|\n",
      "|[1.0,0.0,101.455,...|     0|  0.2305192429002405|\n",
      "+--------------------+------+--------------------+\n",
      "\n"
     ]
    }
   ],
   "source": [
    "predDF = pipelineModel.transform(testDF)\n",
    "predDF.select(\"features\", \"Asthma\", \"prediction\").show(22)"
   ]
  },
  {
   "cell_type": "code",
   "execution_count": 54,
   "metadata": {},
   "outputs": [
    {
     "data": {
      "text/plain": [
       "['Marital Status', 'Gender']"
      ]
     },
     "execution_count": 54,
     "metadata": {},
     "output_type": "execute_result"
    }
   ],
   "source": [
    "categoricalCols"
   ]
  }
 ],
 "metadata": {
  "kernelspec": {
   "display_name": "Python 3",
   "language": "python",
   "name": "python3"
  },
  "language_info": {
   "codemirror_mode": {
    "name": "ipython",
    "version": 3
   },
   "file_extension": ".py",
   "mimetype": "text/x-python",
   "name": "python",
   "nbconvert_exporter": "python",
   "pygments_lexer": "ipython3",
   "version": "3.8.5"
  }
 },
 "nbformat": 4,
 "nbformat_minor": 4
}
