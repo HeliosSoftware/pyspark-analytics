{
 "cells": [
  {
   "cell_type": "code",
   "execution_count": 18,
   "metadata": {},
   "outputs": [],
   "source": [
    "# Import all necessary libraries and create spark session\n",
    "from pyspark.sql import SparkSession\n",
    "from pyspark.sql.functions import col,upper,udf,element_at,explode,regexp_replace,size\n",
    "import pyspark.sql.functions as F\n",
    "from pyspark.sql.types import StringType, DateType\n",
    "\n",
    "from pyspark.ml.feature import OneHotEncoder, StringIndexer, VectorAssembler\n",
    "from pyspark.ml import Pipeline\n",
    "from pyspark.ml.regression import LinearRegression\n",
    "\n",
    "import os\n",
    "\n",
    "spark = SparkSession \\\n",
    "    .builder \\\n",
    "    .appName(\"FHIR Analytics with Python\") \\\n",
    "    .config(\"spark.sql.extensions\", \"com.datastax.spark.connector.CassandraSparkExtensions\") \\\n",
    "    .getOrCreate()\n",
    "keyspace = \"myCatalog.hfs_data\"\n"
   ]
  },
  {
   "cell_type": "code",
   "execution_count": 19,
   "metadata": {},
   "outputs": [],
   "source": [
    "# create a reference to our Cassandra catalog\n",
    "spark.conf.set(\"spark.sql.catalog.myCatalog\", \"com.datastax.spark.connector.datasource.CassandraCatalog\")\n",
    "\n",
    "# Increase memory for better performance\n",
    "spark.conf.set(\"spark.cassandra.input.split.sizeInMB\", \"67108864\")\n"
   ]
  },
  {
   "cell_type": "code",
   "execution_count": 20,
   "metadata": {},
   "outputs": [],
   "source": [
    "# define UDFs to pull some data out of our structs\n",
    "def getMaritalStatus(ms):\n",
    "    if (ms == None):\n",
    "        return None\n",
    "    return ms.text_\n",
    "gms = udf(getMaritalStatus, StringType())\n",
    "def getBirthDate(bd):\n",
    "    return bd[0]\n",
    "gbd = udf(getBirthDate, DateType())\n",
    "\n",
    "# a reusable function to get a specific LOINC code and average all for by Patient ID\n",
    "def getAvgForLoinc(loinc_code, agg_column, df):\n",
    "    return df.filter(col(\"LoincCode\").like(loinc_code)) \\\n",
    "                         .withColumnRenamed(\"ValueQuantity\", agg_column) \\\n",
    "                         .select(col(\"Subject\"), col(agg_column)) \\\n",
    "                         .groupBy(\"Subject\").agg(F.round(F.avg(col(agg_column)), 3).alias(agg_column))"
   ]
  },
  {
   "cell_type": "code",
   "execution_count": 21,
   "metadata": {},
   "outputs": [],
   "source": [
    "# Read in the tables we care about\n",
    "rawPatient = spark.read.table(keyspace + \".patient\")\n",
    "rawReference = spark.read.table(keyspace + \".reference\")\n",
    "rawObservation = spark.read.table(keyspace + \".observation\")\n",
    "rawEncounter = spark.read.table(keyspace + \".encounter\")\n",
    "\n",
    "# An alternative way to read tables, left for reference\n",
    "#rawReference = spark.read.format(\"org.apache.spark.sql.cassandra\").options(**{\"table\": \"reference\",\"keyspace\": \"hfs_data\"}).load()\n",
    "#rawObservation = spark.read.format(\"org.apache.spark.sql.cassandra\").options(**{\"table\": \"observation\",\"keyspace\": \"hfs_data\"}).load()\n"
   ]
  },
  {
   "cell_type": "code",
   "execution_count": 22,
   "metadata": {},
   "outputs": [],
   "source": [
    "# select id, maritalstatus._text, birthdate and gender from patient\n",
    "# calculate patient age\n",
    "\n",
    "patientDataFrame = rawPatient.select(col(\"id\").alias(\"PatientId\"), gms(col(\"maritalstatus\")).alias(\"Marital Status\"), col(\"birthdate\")[\"0\"].alias(\"birthdate\"), upper(col(\"gender\")).alias(\"Gender\")).withColumn(\"Age\", F.round(F.datediff(F.current_date(), F.to_date(col(\"birthdate\"))) / 365, 1))"
   ]
  },
  {
   "cell_type": "code",
   "execution_count": 23,
   "metadata": {},
   "outputs": [
    {
     "data": {
      "text/plain": [
       "4509"
      ]
     },
     "execution_count": 23,
     "metadata": {},
     "output_type": "execute_result"
    }
   ],
   "source": [
    "patientDataFrame.cache()\n",
    "patientDataFrame.count()"
   ]
  },
  {
   "cell_type": "code",
   "execution_count": 24,
   "metadata": {},
   "outputs": [],
   "source": [
    "# select only Patient references and manipulate the column values so they are ready for joining with other tables\n",
    "\n",
    "referenceDataFrame = rawReference.where(rawReference.reference.like(\"Patient%\")).select(regexp_replace(rawReference.id, \"#hidden\", \"\").alias(\"id\"), regexp_replace(rawReference.reference, \"Patient/\", \"\").alias(\"reference\"))"
   ]
  },
  {
   "cell_type": "code",
   "execution_count": 25,
   "metadata": {
    "scrolled": true
   },
   "outputs": [
    {
     "data": {
      "text/plain": [
       "1723782"
      ]
     },
     "execution_count": 25,
     "metadata": {},
     "output_type": "execute_result"
    }
   ],
   "source": [
    "referenceDataFrame.cache()\n",
    "referenceDataFrame.count()"
   ]
  },
  {
   "cell_type": "code",
   "execution_count": 26,
   "metadata": {},
   "outputs": [],
   "source": [
    "# rename some observation columns AND join with reference table to resolve Patient ID references properly\n",
    "\n",
    "observationDataFrame = rawObservation.select(col(\"id\").alias(\"ObservationId\"), col(\"code\"), col(\"component\"), col(\"valuequantity\"), col(\"subject\").alias(\"PatientReferenceId\"))\n",
    "observationDataFrame = observationDataFrame.join(referenceDataFrame, referenceDataFrame.id == observationDataFrame.PatientReferenceId) \\\n",
    "                  .withColumn(\"id\", col(\"id\").cast(StringType())).withColumn(\"reference\", col(\"reference\").cast(StringType())) \\\n",
    "                  .withColumnRenamed('reference', \"PatientId\") \\\n",
    "                  .drop(col(\"id\")) \\\n",
    "                  .drop(col(\"PatientReferenceId\"))\n",
    "\n",
    "\n"
   ]
  },
  {
   "cell_type": "code",
   "execution_count": 27,
   "metadata": {},
   "outputs": [],
   "source": [
    "# Filter and select LOINC information from observation dataframe\n",
    "\n",
    "observationDataFrame_loinc = observationDataFrame \\\n",
    "    .select(col(\"PatientId\").alias(\"Subject\"), \\\n",
    "            col(\"ObservationId\"), \\\n",
    "            col(\"code\").coding[0].code.alias(\"LoincCode\"), \\\n",
    "            col(\"valuequantity\").value.alias(\"ValueQuantity\"))\n",
    "\n",
    "loinc_code_list = [\"8480-6\", \"8462-4\",\"29463-7\",\"8302-2\",\"33914-3\",\"2571-8\",\"2085-9\",\"18262-6\",\"2093-3\",\"39156-5\",\"55284-4\", \"195967001\", \"233678006\"]\n",
    "\n",
    "\n",
    "observationDataFrame_loinc = observationDataFrame_loinc \\\n",
    "    .filter(col(\"LoincCode\").isin(loinc_code_list))\\\n",
    "    .na.drop()"
   ]
  },
  {
   "cell_type": "code",
   "execution_count": 28,
   "metadata": {},
   "outputs": [
    {
     "data": {
      "text/plain": [
       "DataFrame[Subject: string, ObservationId: string, LoincCode: string, ValueQuantity: decimal(38,18)]"
      ]
     },
     "execution_count": 28,
     "metadata": {},
     "output_type": "execute_result"
    }
   ],
   "source": [
    "observationDataFrame_loinc.cache()"
   ]
  },
  {
   "cell_type": "code",
   "execution_count": 29,
   "metadata": {},
   "outputs": [],
   "source": [
    "# Select only Body Weight observations from pre-filtered observation data frame\n",
    "\n",
    "body_weight_df = observationDataFrame_loinc \\\n",
    "    .filter(col(\"LoincCode\").like(\"%29463-7%\")) \\\n",
    "    .withColumnRenamed(\"ValueQuantity\", \"Body Weight\") \\\n",
    "    .select(col(\"Subject\"), col(\"Body Weight\")) \\\n",
    "    .na.drop() \\\n",
    "    .dropDuplicates()"
   ]
  },
  {
   "cell_type": "code",
   "execution_count": 30,
   "metadata": {},
   "outputs": [],
   "source": [
    "# Calculate Systolic, Dystolic and total BP, then avg per patient\n",
    "\n",
    "blood_pressure_df = observationDataFrame.select(col(\"PatientId\").alias(\"Subject\"),\n",
    "                          \"ObservationId\",\n",
    "                          col(\"component\")[0].code.coding[0].code.alias(\"DBPCode\"), \\\n",
    "                          col(\"component\")[0].valuequantity.value.alias(\"Diastolic Blood Pressure\"), \\\n",
    "                          col(\"component\")[1].code.coding[0].code.alias(\"SBPCode\"), \\\n",
    "                          col(\"component\")[1].valuequantity.value.alias(\"Systolic Blood Pressure\")).na.drop()\n",
    "\n",
    "\n",
    "\n",
    "blood_pressure_df = blood_pressure_df.withColumn(\"Blood Pressure\", \\\n",
    "      F.round(col(\"Diastolic Blood Pressure\")+(col(\"Systolic Blood Pressure\") - col(\"Diastolic Blood Pressure\"))/3))\n",
    "\n",
    "blood_pressure_avg_df = blood_pressure_df.groupBy(col(\"Subject\")).agg(F.round(F.avg(\"Diastolic Blood Pressure\"), 3).alias(\"Diastolic BP\"), \\\n",
    "                                           F.round(F.avg(\"Systolic Blood Pressure\"), 3).alias(\"Systolic BP\"), \\\n",
    "                                           F.round(F.avg(\"Blood Pressure\"), 3).alias(\"BP\") \\\n",
    "                                          )\n"
   ]
  },
  {
   "cell_type": "code",
   "execution_count": 31,
   "metadata": {},
   "outputs": [],
   "source": [
    "# Select all encounters that show as Asthma diagnoses\n",
    "\n",
    "encounterDataFrame = rawEncounter.filter(F.size(col(\"reasoncode\")) > 0).select(col(\"subject\"), col(\"reasoncode\")[0].coding[0][\"code\"].alias(\"Asthma\")) \\\n",
    "                                 .withColumn(\"Asthma\", F.when(col(\"Asthma\").isin([\"195967001\",\"233678006\"]), F.lit(1)).otherwise(F.lit(0)))\n",
    "\n",
    "encounterDataFrame = encounterDataFrame.join(referenceDataFrame, encounterDataFrame.subject == referenceDataFrame.id) \\\n",
    "                                               .drop(\"subject\", \"id\") \\\n",
    "                                               .withColumnRenamed(\"reference\", \"subject\")\n",
    "\n",
    "encounterDataFrame_asthma = encounterDataFrame.groupBy(\"subject\").agg(F.max(col(\"Asthma\")).alias(\"Asthma\"))"
   ]
  },
  {
   "cell_type": "code",
   "execution_count": 32,
   "metadata": {},
   "outputs": [],
   "source": [
    "# Calculate avg body weight per patient and join with patient data frame\n",
    "\n",
    "patient_calc_df = body_weight_df.groupBy(\"Subject\").agg(F.round(F.avg(\"Body Weight\"), 3).alias(\"Body Weight\")) \\\n",
    "                                .join(patientDataFrame, body_weight_df.Subject == patientDataFrame.PatientId) \\\n",
    "                                .drop(\"Subject\")\n",
    "\n",
    "# Add literal demo info to patients\n",
    "patient_calc_df = patient_calc_df.dropDuplicates() \\\n",
    "                                 .withColumn(\"Disease\", F.array(F.lit(\"0\"))) \\\n",
    "                                 .withColumn(\"PostalCode\", F.array(F.lit(\"0\")))\n",
    "\n",
    "# Join BP info by patient\n",
    "patient_calc_df = patient_calc_df.join(blood_pressure_avg_df, \\\n",
    "                                             blood_pressure_avg_df.Subject == patient_calc_df.PatientId, \"left\") \\\n",
    "                                       .drop(\"Subject\")\n",
    "     \n",
    "\n",
    "# Join asthma info by patient\n",
    "patient_calc_df = patient_calc_df.join(encounterDataFrame_asthma, encounterDataFrame_asthma.subject == patient_calc_df.PatientId, \"left\") \\\n",
    "                   .dropDuplicates() \\\n",
    "                   .drop(col(\"subject\"))\n",
    "\n",
    "# Calculate and join avg triglycerides by patient\n",
    "triglycerides_df = getAvgForLoinc(\"%2571-8%\", \"Triglycerides\", observationDataFrame_loinc)\n",
    "\n",
    "patient_calc_df = patient_calc_df.join(triglycerides_df, patient_calc_df.PatientId == triglycerides_df.Subject, \"left\") \\\n",
    "                                 .drop(col(\"Subject\"))\n",
    "\n",
    "\n",
    "# Calculate and join average EGFR by patient\n",
    "egfrLoincCode = [\"88294-4\", \"33914-3\"]\n",
    "agg_column = \"Estimated Glomerular Filtration Rate\"\n",
    "\n",
    "egfr_df = observationDataFrame_loinc.select(col(\"Subject\"), col(\"LoincCode\"), col(\"ValueQuantity\")) \\\n",
    "                                 .filter(col(\"LoincCode\").isin(egfrLoincCode)) \\\n",
    "                                 .withColumn(agg_column, col(\"ValueQuantity\")) \\\n",
    "                                 .groupBy(\"Subject\").agg(F.round(F.avg(col(agg_column))).alias(agg_column))\n",
    "\n",
    "patient_calc_df = patient_calc_df.join(egfr_df, patient_calc_df.PatientId == egfr_df.Subject, \"left\") \\\n",
    "                                 .drop(col(\"Subject\"))\n",
    "\n",
    "# Calculate and join avg LDL by patient\n",
    "ldl_df = getAvgForLoinc(\"%18262-6%\", \"Low Density Lipoprotein\", observationDataFrame_loinc)\n",
    "\n",
    "patient_calc_df = patient_calc_df.join(ldl_df, patient_calc_df.PatientId == ldl_df.Subject, \"left\") \\\n",
    "                   .dropDuplicates().drop(col(\"Subject\"))\n",
    "\n",
    "\n",
    "# Calculate and join average HDL by patient\n",
    "hdl_df = getAvgForLoinc(\"%2085-9%\", \"High Density Lipoprotein Cholesterol\", observationDataFrame_loinc)\n",
    "\n",
    "patient_calc_df = patient_calc_df.join(hdl_df, patient_calc_df.PatientId == hdl_df.Subject, \"left\") \\\n",
    "                   .drop(col(\"Subject\"))\n",
    "\n",
    "# Calculate and join average height by patient\n",
    "height_df = getAvgForLoinc(\"%8302-2%\", \"Body Height\", observationDataFrame_loinc)\n",
    "\n",
    "patient_calc_df = patient_calc_df.join(height_df, patient_calc_df.PatientId == height_df.Subject, \"left\") \\\n",
    "                   .drop(col(\"Subject\"))\n",
    "\n",
    "#Calculate and join average BMI by patient\n",
    "bmi_df = getAvgForLoinc(\"%39156-5%\", \"BMI\", observationDataFrame_loinc)\n",
    "    \n",
    "patient_calc_df = patient_calc_df.join(bmi_df, patient_calc_df.PatientId == bmi_df.Subject, \"left\") \\\n",
    "                   .drop(col(\"Subject\"))\n",
    "\n",
    "#Calculate and join average cholesterol by patient\n",
    "cholesterol_df = getAvgForLoinc(\"%2093-3%\", \"Total Cholesterol\", observationDataFrame_loinc)\n",
    "\n",
    "patient_calc_df = patient_calc_df.join(cholesterol_df, patient_calc_df.PatientId == cholesterol_df.Subject, \"left\") \\\n",
    "                   .drop(col(\"Subject\"))"
   ]
  },
  {
   "cell_type": "code",
   "execution_count": 33,
   "metadata": {},
   "outputs": [],
   "source": [
    "# Drop some non predictors and any rows with nulls\n",
    "asthma_dataset = patient_calc_df.drop(\"PatientId\", \"Disease\", \"PostalCode\", \"birthdate\", \"Diagnosed Date\").na.drop()"
   ]
  },
  {
   "cell_type": "code",
   "execution_count": 34,
   "metadata": {},
   "outputs": [
    {
     "data": {
      "text/plain": [
       "177"
      ]
     },
     "execution_count": 34,
     "metadata": {},
     "output_type": "execute_result"
    }
   ],
   "source": [
    "asthma_dataset.cache()\n",
    "# check how many patients with asthma we have after doing the cleaning of data, a good size sample is important for a good model\n",
    "asthma_dataset.filter(col(\"Asthma\") ==1).count()"
   ]
  },
  {
   "cell_type": "code",
   "execution_count": 35,
   "metadata": {},
   "outputs": [
    {
     "data": {
      "text/plain": [
       "DataFrame[Body Weight: decimal(38,3), Marital Status: string, Gender: string, Age: double, Diastolic BP: decimal(38,3), Systolic BP: decimal(38,3), BP: decimal(38,3), Asthma: int, Triglycerides: decimal(38,3), Estimated Glomerular Filtration Rate: decimal(38,0), Low Density Lipoprotein: decimal(38,3), High Density Lipoprotein Cholesterol: decimal(38,3), Body Height: decimal(38,3), BMI: decimal(38,3), Total Cholesterol: decimal(38,3)]"
      ]
     },
     "execution_count": 35,
     "metadata": {},
     "output_type": "execute_result"
    }
   ],
   "source": [
    "asthma_dataset.cache()"
   ]
  },
  {
   "cell_type": "code",
   "execution_count": 36,
   "metadata": {},
   "outputs": [
    {
     "name": "stdout",
     "output_type": "stream",
     "text": [
      "+-----------+--------------+------+-----+------------+-----------+-------+------+-------------+------------------------------------+-----------------------+------------------------------------+-----------+------+-----------------+\n",
      "|Body Weight|Marital Status|Gender|  Age|Diastolic BP|Systolic BP|     BP|Asthma|Triglycerides|Estimated Glomerular Filtration Rate|Low Density Lipoprotein|High Density Lipoprotein Cholesterol|Body Height|   BMI|Total Cholesterol|\n",
      "+-----------+--------------+------+-----+------------+-----------+-------+------+-------------+------------------------------------+-----------------------+------------------------------------+-----------+------+-----------------+\n",
      "|     87.436|             S|  MALE| 98.3|      80.517|    119.310| 93.483|     1|      153.729|                                  34|                106.059|                              61.046|    175.200|28.816|          179.925|\n",
      "|     79.900|             M|  MALE| 55.9|      78.545|    123.182| 93.318|     1|      128.800|                                   9|                 91.760|                              72.920|    169.400|27.840|          190.437|\n",
      "|     93.300|             S|  MALE| 97.8|      80.417|    119.917| 93.583|     1|      120.290|                                  21|                 72.837|                              73.033|    179.000|29.650|          169.930|\n",
      "|    100.500|             S|  MALE| 38.1|      75.049|    107.467| 85.857|     1|      127.530|                                  10|                 84.167|                              69.110|    185.600|29.725|          178.777|\n",
      "|     79.536|             M|FEMALE| 73.1|      81.917|    118.000| 93.917|     1|      125.390|                                  15|                 88.600|                              68.330|    164.800|29.208|          182.010|\n",
      "|     89.700|             M|  MALE| 81.7|      78.833|    116.167| 91.333|     0|      132.788|                                 119|                 78.340|                              67.913|    175.900|28.990|          172.810|\n",
      "|     73.100|             M|FEMALE| 58.3|      78.769|    118.385| 91.923|     1|      141.709|                                  70|                103.688|                              54.204|    162.500|27.680|          191.853|\n",
      "|     62.600|             S|FEMALE| 47.1|      74.373|    109.623| 86.083|     1|      172.896|                                  79|                108.181|                              64.759|    152.000|27.090|          199.590|\n",
      "|     88.725|             M|  MALE| 56.9|      81.750|    119.375| 94.250|     0|      147.112|                                  78|                102.081|                              65.570|    175.200|29.486|          199.023|\n",
      "|     94.600|             M|  MALE| 66.3|      79.636|    120.545| 93.273|     1|      134.836|                                  76|                 91.663|                              58.842|    183.600|28.060|          193.232|\n",
      "|     94.300|             M|  MALE| 61.9|      72.222|    102.561| 82.440|     1|      130.490|                                  11|                 70.297|                              67.027|    183.400|28.040|          163.420|\n",
      "|     91.367|             M|  MALE| 45.4|      66.078|    103.094| 78.167|     0|      189.303|                                  74|                101.096|                              53.026|    176.100|29.668|          191.655|\n",
      "|     80.000|             M|FEMALE| 59.1|      82.667|    121.111| 95.556|     0|      151.965|                                  77|                119.172|                              68.713|    170.600|27.490|          190.472|\n",
      "|     91.900|             M|  MALE| 83.0|      79.404|    119.712| 92.827|     1|      175.783|                                  53|                138.521|                              48.731|    181.400|27.930|          222.409|\n",
      "|     94.713|             M|  MALE| 34.9|      78.962|    120.192| 92.731|     1|      123.080|                                  10|                 77.130|                              69.855|    179.000|29.952|          171.610|\n",
      "|     82.600|             M|  MALE| 95.7|     105.550|    155.000|122.050|     0|      129.528|                                   9|                 75.513|                              70.030|    172.900|27.630|          171.445|\n",
      "|    123.260|             M|  MALE| 48.2|      78.500|    122.500| 93.167|     0|      172.068|                                  81|                 99.122|                              65.394|    184.200|36.328|          177.659|\n",
      "|    131.100|             M|FEMALE|100.1|      78.000|    120.700| 92.400|     1|      134.950|                                  99|                 95.626|                              63.459|    168.800|46.010|          186.079|\n",
      "|     82.200|             S|  MALE|101.5|      79.700|    122.400| 93.800|     0|      117.623|                                  15|                 73.555|                              71.028|    172.700|27.560|          168.108|\n",
      "|     75.208|             M|FEMALE| 54.5|      56.549|     82.635| 65.313|     1|      125.277|                                  10|                 89.797|                              73.307|    161.400|28.940|          188.160|\n",
      "+-----------+--------------+------+-----+------------+-----------+-------+------+-------------+------------------------------------+-----------------------+------------------------------------+-----------+------+-----------------+\n",
      "only showing top 20 rows\n",
      "\n"
     ]
    }
   ],
   "source": [
    "asthma_dataset.show()"
   ]
  },
  {
   "cell_type": "code",
   "execution_count": 37,
   "metadata": {},
   "outputs": [
    {
     "name": "stdout",
     "output_type": "stream",
     "text": [
      "There are 233 rows in the training set and 40 in the test set\n"
     ]
    }
   ],
   "source": [
    "trainDF, testDF = asthma_dataset.randomSplit([.8, .2], seed = 42)\n",
    "print(f\"\"\"There are {trainDF.count()} rows in the training set and {testDF.count()} in the test set\"\"\")"
   ]
  },
  {
   "cell_type": "code",
   "execution_count": 38,
   "metadata": {},
   "outputs": [],
   "source": [
    "# prepare the data for regressions\n",
    "\n",
    "categoricalCols = [field for (field, dataType) in trainDF.dtypes if dataType == \"string\"]\n",
    "indexOutputCols = [x + \"Index\" for x in categoricalCols]\n",
    "oheOutputCols = [x + \"OHE\" for x in categoricalCols]\n",
    "\n",
    "stringIndexer = StringIndexer(inputCols = categoricalCols, outputCols = indexOutputCols, handleInvalid = \"skip\")\n",
    "oheEncoder = OneHotEncoder(inputCols = indexOutputCols, outputCols = oheOutputCols)\n",
    "\n",
    "numericCols = [field for (field, dataType) in trainDF.dtypes\n",
    "                if dataType != \"string\" and field != \"Asthma\"]\n",
    "\n",
    "assemblerInputs = oheOutputCols + numericCols\n",
    "\n",
    "vecAssembler = VectorAssembler(inputCols = assemblerInputs, outputCol = \"features\")"
   ]
  },
  {
   "cell_type": "code",
   "execution_count": 39,
   "metadata": {},
   "outputs": [
    {
     "name": "stdout",
     "output_type": "stream",
     "text": [
      "Coefficients: [0.5997257625718431,-0.11971540867225226,-0.8897179802938445,-0.007718132253374646,-0.0062416213712803755,0.010368001512818114,0.010903384341787751,0.011159211528305225,-0.02317032059116305,-0.030522913729591226,0.021676420690734968,0.001293184213651238,0.0056136656364702735,0.07151971129603955,-0.009702515411718965]\n",
      "Intercept: 0.6649878979856585\n",
      "0.7854077253218884\n",
      "+--------------------+------+----------+\n",
      "|            features|Asthma|prediction|\n",
      "+--------------------+------+----------+\n",
      "|[0.0,1.0,1.0,93.3...|     1|       1.0|\n",
      "|[1.0,0.0,1.0,85.9...|     1|       1.0|\n",
      "|[0.0,1.0,0.0,73.7...|     1|       1.0|\n",
      "|[0.0,1.0,1.0,79.6...|     1|       1.0|\n",
      "|[0.0,1.0,0.0,81.7...|     1|       1.0|\n",
      "|[1.0,0.0,0.0,73.6...|     1|       1.0|\n",
      "|[0.0,1.0,0.0,67.1...|     1|       1.0|\n",
      "|[1.0,0.0,0.0,75.8...|     1|       1.0|\n",
      "|[0.0,1.0,0.0,69.2...|     1|       1.0|\n",
      "|[0.0,1.0,0.0,66.4...|     1|       1.0|\n",
      "|[1.0,0.0,1.0,96.2...|     1|       0.0|\n",
      "|[1.0,0.0,1.0,80.9...|     1|       1.0|\n",
      "|[1.0,0.0,1.0,96.2...|     1|       1.0|\n",
      "|[0.0,1.0,0.0,70.2...|     1|       0.0|\n",
      "|[1.0,0.0,0.0,72.5...|     1|       1.0|\n",
      "|[1.0,0.0,0.0,74.8...|     1|       1.0|\n",
      "|[1.0,0.0,0.0,82.2...|     1|       1.0|\n",
      "|[1.0,0.0,0.0,87.0...|     1|       1.0|\n",
      "|[1.0,0.0,1.0,79.0...|     1|       1.0|\n",
      "|[1.0,0.0,1.0,88.2...|     1|       1.0|\n",
      "+--------------------+------+----------+\n",
      "only showing top 20 rows\n",
      "\n"
     ]
    }
   ],
   "source": [
    "from pyspark.ml.classification import LogisticRegression\n",
    "\n",
    "# the 1 for elasticNetParam makes this a LASSO regression\n",
    "lr = LogisticRegression(labelCol = \"Asthma\", featuresCol = \"features\", maxIter=10, elasticNetParam = 1)\n",
    "\n",
    "# construct an ML pipeline - this is a reproducible set of steps for the data manipulation\n",
    "pipeline = Pipeline(stages = [stringIndexer, oheEncoder, vecAssembler, lr])\n",
    "\n",
    "# Fit the model\n",
    "lrModel = pipeline.fit(trainDF)\n",
    "\n",
    "# Print the coefficients and intercept for logistic regression\n",
    "print(\"Coefficients: \" + str(lrModel.stages[-1].coefficients))\n",
    "print(\"Intercept: \" + str(lrModel.stages[-1].intercept))\n",
    "\n",
    "# Test the test set using the model\n",
    "predDF = lrModel.transform(testDF)\n",
    "\n",
    "#show all the positive Asthma cases in the test set and the predictions\n",
    "predDF.select(\"features\", \"Asthma\", \"prediction\").filter((col(\"Asthma\") ==1)).show()"
   ]
  },
  {
   "cell_type": "code",
   "execution_count": 41,
   "metadata": {},
   "outputs": [],
   "source": [
    "from pyspark.ml.tuning import CrossValidator, ParamGridBuilder\n",
    "from pyspark.ml.evaluation import BinaryClassificationEvaluator\n",
    "\n",
    "# Spark will automatically train 4 different models testing the regParam in the array each time and then select the best model\n",
    "paramGrid = ParamGridBuilder() \\\n",
    "    .addGrid(lr.regParam, [0.1, 0.01, 0.05, .3]) \\\n",
    "    .build()\n",
    "\n",
    "crossval = CrossValidator(estimator=pipeline,\n",
    "                          estimatorParamMaps=paramGrid,\n",
    "                          evaluator=BinaryClassificationEvaluator(labelCol = \"Asthma\"),\n",
    "                          numFolds=2\n",
    "                         )  # use 3+ folds in practice\n",
    "\n",
    "# Run cross-validation, and choose the best set of parameters.\n",
    "cvModel = crossval.fit(trainDF)"
   ]
  },
  {
   "cell_type": "code",
   "execution_count": 42,
   "metadata": {},
   "outputs": [
    {
     "name": "stdout",
     "output_type": "stream",
     "text": [
      "+------+--------------------+\n",
      "|   FPR|                 TPR|\n",
      "+------+--------------------+\n",
      "|   0.0|                 0.0|\n",
      "|   0.0|0.006535947712418301|\n",
      "|   0.0|0.013071895424836602|\n",
      "|0.0125|0.013071895424836602|\n",
      "|0.0125|  0.0196078431372549|\n",
      "|0.0125|0.026143790849673203|\n",
      "|0.0125|0.032679738562091505|\n",
      "|0.0125|  0.0457516339869281|\n",
      "|0.0125| 0.05228758169934641|\n",
      "|0.0125|0.058823529411764705|\n",
      "|0.0125| 0.06535947712418301|\n",
      "|0.0125|  0.0718954248366013|\n",
      "|0.0125|  0.0784313725490196|\n",
      "|0.0125|  0.0915032679738562|\n",
      "| 0.025|  0.0915032679738562|\n",
      "| 0.025| 0.09803921568627451|\n",
      "| 0.025| 0.10457516339869281|\n",
      "| 0.025|  0.1111111111111111|\n",
      "| 0.025| 0.11764705882352941|\n",
      "| 0.025| 0.13071895424836602|\n",
      "+------+--------------------+\n",
      "only showing top 20 rows\n",
      "\n",
      "areaUnderROC: 0.8086192810457518\n",
      "Row(max(F-Measure)=0.8264984227129337)\n",
      "0.5435905001218698\n"
     ]
    }
   ],
   "source": [
    "# Extract the summary from the returned LogisticRegressionModel instance trained\n",
    "# in the earlier example\n",
    "trainingSummary = cvModel.bestModel.stages[-1].summary\n",
    "\n",
    "# Obtain the receiver-operating characteristic as a dataframe and areaUnderROC.\n",
    "trainingSummary.roc.show()\n",
    "print(\"areaUnderROC: \" + str(trainingSummary.areaUnderROC))\n",
    "\n",
    "# Set the model threshold to maximize F-Measure\n",
    "# F-Measure is a statistical analysis measurement that helps judge the quality of a model\n",
    "# it uses the number of correct positive predictions / total number positive predictions \n",
    "#    and the number of correct positive predictions / total number of true values\n",
    "\n",
    "fMeasure = trainingSummary.fMeasureByThreshold\n",
    "maxFMeasure = fMeasure.groupBy().max('F-Measure').select('max(F-Measure)').head()\n",
    "print(maxFMeasure)\n",
    "\n",
    "\n",
    "bestThreshold = fMeasure.where(fMeasure['F-Measure'] == maxFMeasure['max(F-Measure)']) \\\n",
    "    .select('threshold').head()['threshold']\n",
    "print(bestThreshold)"
   ]
  },
  {
   "cell_type": "code",
   "execution_count": 45,
   "metadata": {},
   "outputs": [
    {
     "data": {
      "image/png": "[encoded data removed]",
      "text/plain": [
       "<Figure size 432x288 with 1 Axes>"
      ]
     },
     "metadata": {
      "needs_background": "light"
     },
     "output_type": "display_data"
    },
    {
     "name": "stdout",
     "output_type": "stream",
     "text": [
      "Training set areaUnderROC for untuned model: 0.8391339869281047\n"
     ]
    },
    {
     "data": {
      "image/png": "[encoded data removed]",
      "text/plain": [
       "<Figure size 432x288 with 1 Axes>"
      ]
     },
     "metadata": {
      "needs_background": "light"
     },
     "output_type": "display_data"
    },
    {
     "name": "stdout",
     "output_type": "stream",
     "text": [
      "Training set areaUnderROC for BEST model: 0.8086192810457518\n"
     ]
    }
   ],
   "source": [
    "import matplotlib.pyplot as plt \n",
    "\n",
    "# Plot ROC curve, which lets you see false positive rate as a function of true positive rate, showing how you can tune your model\n",
    "\n",
    "roc = lrModel.stages[-1].summary.roc.toPandas()\n",
    "plt.plot(roc['TPR'],roc['FPR'])\n",
    "plt.ylabel('False Positive Rate')\n",
    "plt.xlabel('True Positive Rate')\n",
    "plt.title('ROC Curve')\n",
    "plt.show()\n",
    "print('Training set areaUnderROC for untuned model: ' + str(lrModel.stages[-1].summary.areaUnderROC))\n",
    "\n",
    "roc = cvModel.bestModel.stages[-1].summary.roc.toPandas()\n",
    "plt.plot(roc['TPR'],roc['FPR'])\n",
    "plt.ylabel('False Positive Rate')\n",
    "plt.xlabel('True Positive Rate')\n",
    "plt.title('ROC Curve')\n",
    "plt.show()\n",
    "print('Training set areaUnderROC for BEST model: ' + str(cvModel.bestModel.stages[-1].summary.areaUnderROC))"
   ]
  },
  {
   "cell_type": "code",
   "execution_count": null,
   "metadata": {},
   "outputs": [],
   "source": []
  },
  {
   "cell_type": "code",
   "execution_count": null,
   "metadata": {},
   "outputs": [],
   "source": []
  }
 ],
 "metadata": {
  "kernelspec": {
   "display_name": "Python 3",
   "language": "python",
   "name": "python3"
  },
  "language_info": {
   "codemirror_mode": {
    "name": "ipython",
    "version": 3
   },
   "file_extension": ".py",
   "mimetype": "text/x-python",
   "name": "python",
   "nbconvert_exporter": "python",
   "pygments_lexer": "ipython3",
   "version": "3.8.5"
  }
 },
 "nbformat": 4,
 "nbformat_minor": 4
}
