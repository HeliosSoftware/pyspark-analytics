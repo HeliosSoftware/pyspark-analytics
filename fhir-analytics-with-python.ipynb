{
 "cells": [
  {
   "cell_type": "code",
   "execution_count": 1,
   "metadata": {},
   "outputs": [],
   "source": [
    "\n",
    "from pyspark.sql import SparkSession\n",
    "from pyspark.sql.functions import col,upper,udf,element_at,explode,regexp_replace,size\n",
    "import pyspark.sql.functions as F\n",
    "from pyspark.sql.types import StringType, DateType\n",
    "\n",
    "from pyspark.ml.feature import OneHotEncoder, StringIndexer, VectorAssembler\n",
    "from pyspark.ml import Pipeline\n",
    "from pyspark.ml.regression import LinearRegression\n",
    "\n",
    "import os\n",
    "\n",
    "spark = SparkSession \\\n",
    "    .builder \\\n",
    "    .appName(\"FHIR Analytics with Python\") \\\n",
    "    .getOrCreate()\n",
    "keyspace = \"myCatalog.hfs_data\"\n"
   ]
  },
  {
   "cell_type": "code",
   "execution_count": 2,
   "metadata": {},
   "outputs": [],
   "source": [
    "spark.conf.set(\"spark.sql.catalog.myCatalog\", \"com.datastax.spark.connector.datasource.CassandraCatalog\")"
   ]
  },
  {
   "cell_type": "code",
   "execution_count": 3,
   "metadata": {},
   "outputs": [],
   "source": [
    "def getMaritalStatus(ms):\n",
    "    return ms.text_\n",
    "gms = udf(getMaritalStatus, StringType())\n",
    "def getBirthDate(bd):\n",
    "    return bd[0]\n",
    "gbd = udf(getBirthDate, DateType())\n",
    "\n",
    "def getAvgForLoinc(loinc_code, agg_column, df):\n",
    "    return df.filter(col(\"LoincCode\").like(loinc_code)) \\\n",
    "                         .withColumnRenamed(\"ValueQuantity\", agg_column) \\\n",
    "                         .select(col(\"Subject\"), col(agg_column)) \\\n",
    "                         .groupBy(\"Subject\").agg(F.round(F.avg(col(agg_column)), 3).alias(agg_column))"
   ]
  },
  {
   "cell_type": "code",
   "execution_count": 4,
   "metadata": {},
   "outputs": [],
   "source": [
    "rawPatient = spark.read.table(keyspace + \".patient\")\n",
    "rawReference = spark.read.table(keyspace + \".reference\")\n",
    "#rawReference = spark.read.format(\"org.apache.spark.sql.cassandra\").options(**{\"table\": \"reference\",\"keyspace\": \"hfs_data\"}).load()\n",
    "#rawObservation = spark.read.format(\"org.apache.spark.sql.cassandra\").options(**{\"table\": \"observation\",\"keyspace\": \"hfs_data\"}).load()\n",
    "rawObservation = spark.read.table(keyspace + \".observation\")\n",
    "rawEncounter = spark.read.table(keyspace + \".encounter\")"
   ]
  },
  {
   "cell_type": "code",
   "execution_count": 5,
   "metadata": {},
   "outputs": [],
   "source": [
    "patientDataFrame = rawPatient.select(col(\"id\").alias(\"PatientId\"), gms(col(\"maritalstatus\")).alias(\"Marital Status\"), col(\"birthdate\")[\"0\"].alias(\"birthdate\"), upper(col(\"gender\")).alias(\"Gender\")).withColumn(\"Age\", F.round(F.datediff(F.current_date(), F.to_date(col(\"birthdate\"))) / 365, 1))\n",
    "#patientDataFrame = patientDataFrame.withColumn(\"gender\", upper(col(\"gender\")))\n",
    "#patientDataFrame = patientDataFrame.withColumnRenamed(\"maritalstatus_trunc\", \"maritalstatus\")"
   ]
  },
  {
   "cell_type": "code",
   "execution_count": 6,
   "metadata": {},
   "outputs": [],
   "source": [
    "# select only Patient references and manipulate the column values so they are ready for joining with other tables\n",
    "\n",
    "referenceDataFrame = rawReference.where(rawReference.reference.like(\"Patient%\")).select(regexp_replace(rawReference.id, \"#hidden\", \"\").alias(\"id\"), regexp_replace(rawReference.reference, \"Patient/\", \"\").alias(\"reference\"))"
   ]
  },
  {
   "cell_type": "code",
   "execution_count": 7,
   "metadata": {},
   "outputs": [
    {
     "data": {
      "text/plain": [
       "5336778"
      ]
     },
     "execution_count": 7,
     "metadata": {},
     "output_type": "execute_result"
    }
   ],
   "source": [
    "referenceDataFrame.count()"
   ]
  },
  {
   "cell_type": "code",
   "execution_count": 8,
   "metadata": {},
   "outputs": [
    {
     "data": {
      "text/plain": [
       "DataFrame[id: string, reference: string]"
      ]
     },
     "execution_count": 8,
     "metadata": {},
     "output_type": "execute_result"
    }
   ],
   "source": [
    "referenceDataFrame.cache()"
   ]
  },
  {
   "cell_type": "code",
   "execution_count": 9,
   "metadata": {},
   "outputs": [],
   "source": [
    "# rename some observation columns AND join with reference table to resolve Patient ID references properly\n",
    "\n",
    "observationDataFrame = rawObservation.select(col(\"id\").alias(\"ObservationId\"), col(\"code\"), col(\"component\"), col(\"valuequantity\"), col(\"subject\").alias(\"PatientReferenceId\"))\n",
    "observationDataFrame = referenceDataFrame.join(observationDataFrame, referenceDataFrame.id == observationDataFrame.PatientReferenceId) \\\n",
    "                  .withColumn(\"id\", col(\"id\").cast(StringType())).withColumn(\"reference\", col(\"reference\").cast(StringType())) \\\n",
    "                  .withColumnRenamed('reference', \"PatientId\") \\\n",
    "                  .drop(col(\"id\")) \\\n",
    "                  .drop(col(\"PatientReferenceId\"))\n",
    "\n",
    "\n"
   ]
  },
  {
   "cell_type": "code",
   "execution_count": 10,
   "metadata": {},
   "outputs": [],
   "source": [
    "# Filter and select LOINC information from observation dataframe\n",
    "\n",
    "observationDataFrame_loinc = observationDataFrame \\\n",
    "    .select(col(\"PatientId\").alias(\"Subject\"), \\\n",
    "            col(\"ObservationId\"), \\\n",
    "            col(\"code\").coding[0].code.alias(\"LoincCode\"), \\\n",
    "            col(\"valuequantity\").value.alias(\"ValueQuantity\"))\n",
    "\n",
    "loinc_code_list = [\"8480-6\", \"8462-4\",\"29463-7\",\"8302-2\",\"33914-3\",\"2571-8\",\"2085-9\",\"18262-6\",\"2093-3\",\"39156-5\",\"55284-4\", \"195967001\", \"233678006\"]\n",
    "\n",
    "\n",
    "observationDataFrame_loinc = observationDataFrame_loinc \\\n",
    "    .filter(col(\"LoincCode\").isin(loinc_code_list))\\\n",
    "    .na.drop()"
   ]
  },
  {
   "cell_type": "code",
   "execution_count": 11,
   "metadata": {},
   "outputs": [
    {
     "data": {
      "text/plain": [
       "2198746"
      ]
     },
     "execution_count": 11,
     "metadata": {},
     "output_type": "execute_result"
    }
   ],
   "source": [
    "observationDataFrame.count()"
   ]
  },
  {
   "cell_type": "code",
   "execution_count": 12,
   "metadata": {},
   "outputs": [
    {
     "data": {
      "text/plain": [
       "DataFrame[Subject: string, ObservationId: string, LoincCode: string, ValueQuantity: decimal(38,18)]"
      ]
     },
     "execution_count": 12,
     "metadata": {},
     "output_type": "execute_result"
    }
   ],
   "source": [
    "observationDataFrame_loinc.cache()"
   ]
  },
  {
   "cell_type": "code",
   "execution_count": 13,
   "metadata": {},
   "outputs": [],
   "source": [
    "# Select only Body Weight observations from pre-filtered observation data frame\n",
    "\n",
    "body_weight_df = observationDataFrame_loinc \\\n",
    "    .filter(col(\"LoincCode\").like(\"%29463-7%\")) \\\n",
    "    .withColumnRenamed(\"ValueQuantity\", \"Body Weight\") \\\n",
    "    .select(col(\"Subject\"), col(\"Body Weight\")) \\\n",
    "    .na.drop() \\\n",
    "    .dropDuplicates()"
   ]
  },
  {
   "cell_type": "code",
   "execution_count": 14,
   "metadata": {},
   "outputs": [],
   "source": [
    "# Calculate Systolic, Dystolic and total BP, then avg per patient\n",
    "\n",
    "blood_pressure_df = observationDataFrame.select(col(\"PatientId\").alias(\"Subject\"),\n",
    "                          \"ObservationId\",\n",
    "                          col(\"component\")[0].code.coding[0].code.alias(\"DBPCode\"), \\\n",
    "                          col(\"component\")[0].valuequantity.value.alias(\"Diastolic Blood Pressure\"), \\\n",
    "                          col(\"component\")[1].code.coding[0].code.alias(\"SBPCode\"), \\\n",
    "                          col(\"component\")[1].valuequantity.value.alias(\"Systolic Blood Pressure\")).na.drop()\n",
    "\n",
    "\n",
    "\n",
    "blood_pressure_df = blood_pressure_df.withColumn(\"Blood Pressure\", \\\n",
    "      F.round(col(\"Diastolic Blood Pressure\")+(col(\"Systolic Blood Pressure\") - col(\"Diastolic Blood Pressure\"))/3))\n",
    "\n",
    "blood_pressure_avg_df = blood_pressure_df.groupBy(col(\"Subject\")).agg(F.round(F.avg(\"Diastolic Blood Pressure\"), 3).alias(\"Diastolic BP\"), \\\n",
    "                                           F.round(F.avg(\"Systolic Blood Pressure\"), 3).alias(\"Systolic BP\"), \\\n",
    "                                           F.round(F.avg(\"Blood Pressure\"), 3).alias(\"BP\") \\\n",
    "                                          )\n"
   ]
  },
  {
   "cell_type": "code",
   "execution_count": 15,
   "metadata": {},
   "outputs": [],
   "source": [
    "# Select all encounters that show as Asthma diagnoses\n",
    "\n",
    "encounterDataFrame = rawEncounter.filter(F.size(col(\"reasoncode\")) > 0).select(col(\"subject\"), col(\"reasoncode\")[0].coding[0][\"code\"].alias(\"Asthma\")) \\\n",
    "                                 .withColumn(\"Asthma\", F.when(col(\"Asthma\").isin([\"195967001\",\"233678006\"]), F.lit(1)).otherwise(F.lit(0)))\n",
    "\n",
    "encounterDataFrame = encounterDataFrame.join(referenceDataFrame, encounterDataFrame.subject == referenceDataFrame.id) \\\n",
    "                                               .drop(\"subject\", \"id\") \\\n",
    "                                               .withColumnRenamed(\"reference\", \"subject\")\n",
    "\n",
    "encounterDataFrame_asthma = encounterDataFrame.groupBy(\"subject\").agg(F.max(col(\"Asthma\")).alias(\"Asthma\"))"
   ]
  },
  {
   "cell_type": "code",
   "execution_count": 16,
   "metadata": {},
   "outputs": [],
   "source": [
    "# Calculate avg body weight per patient and join with patient data frame\n",
    "\n",
    "patient_calc_df = body_weight_df.groupBy(\"Subject\").agg(F.round(F.avg(\"Body Weight\"), 3).alias(\"Body Weight\")) \\\n",
    "                                .join(patientDataFrame, body_weight_df.Subject == patientDataFrame.PatientId) \\\n",
    "                                .drop(\"Subject\")\n",
    "\n",
    "# Add literal demo info to patients\n",
    "patient_calc_df = patient_calc_df.dropDuplicates() \\\n",
    "                                 .withColumn(\"Disease\", F.array(F.lit(\"0\"))) \\\n",
    "                                 .withColumn(\"PostalCode\", F.array(F.lit(\"0\")))\n",
    "\n",
    "# Join BP info by patient\n",
    "# COMMENTED OUT BECAUSE LASSO\n",
    "patient_calc_df = blood_pressure_avg_df.join(patient_calc_df, \\\n",
    "                                             blood_pressure_avg_df.Subject == patient_calc_df.PatientId) \\\n",
    "                                       .drop(\"Subject\")\n",
    "\n",
    "# Join asthma info by patient\n",
    "patient_calc_df = encounterDataFrame_asthma.join(patient_calc_df, encounterDataFrame_asthma.subject == patient_calc_df.PatientId) \\\n",
    "                   .dropDuplicates() \\\n",
    "                   .drop(col(\"subject\"))\n",
    "\n",
    "# Calculate and join avg triglycerides by patient\n",
    "triglycerides_df = getAvgForLoinc(\"%2571-8%\", \"Triglycerides\", observationDataFrame_loinc)\n",
    "\n",
    "patient_calc_df = patient_calc_df.join(triglycerides_df, patient_calc_df.PatientId == triglycerides_df.Subject) \\\n",
    "                                 .drop(col(\"Subject\"))\n",
    "\n",
    "# Calculate and join average EGFR by patient\n",
    "egfrLoincCode = [\"88294-4\", \"33914-3\"]\n",
    "agg_column = \"Estimated Glomerular Filtration Rate\"\n",
    "\n",
    "egfr_df = observationDataFrame_loinc.select(col(\"Subject\"), col(\"LoincCode\"), col(\"ValueQuantity\")) \\\n",
    "                                 .filter(col(\"LoincCode\").isin(egfrLoincCode)) \\\n",
    "                                 .withColumn(agg_column, col(\"ValueQuantity\")) \\\n",
    "                                 .groupBy(\"Subject\").agg(F.round(F.avg(col(agg_column))).alias(agg_column))\n",
    "\n",
    "# COMMENTED OUT BECAUSE LASSO\n",
    "patient_calc_df = patient_calc_df.join(egfr_df, patient_calc_df.PatientId == egfr_df.Subject) \\\n",
    "                                 .drop(col(\"Subject\"))\n",
    "\n",
    "# COMMENTED OUT BECAUSE LASSO\n",
    "# Calculate and join avg LDL by patient\n",
    "ldl_df = getAvgForLoinc(\"%18262-6%\", \"Low Density Lipoprotein\", observationDataFrame_loinc)\n",
    "\n",
    "patient_calc_df = patient_calc_df.join(ldl_df, patient_calc_df.PatientId == ldl_df.Subject) \\\n",
    "                   .dropDuplicates().drop(col(\"Subject\"))\n",
    "\n",
    "# Calculate and join average HDL by patient\n",
    "hdl_df = getAvgForLoinc(\"%2085-9%\", \"High Density Lipoprotein Cholesterol\", observationDataFrame_loinc)\n",
    "\n",
    "patient_calc_df = patient_calc_df.join(hdl_df, patient_calc_df.PatientId == hdl_df.Subject) \\\n",
    "                   .drop(col(\"Subject\"))\n",
    "\n",
    "# Calculate and join average height by patient\n",
    "height_df = getAvgForLoinc(\"%8302-2%\", \"Body Height\", observationDataFrame_loinc)\n",
    "\n",
    "patient_calc_df = patient_calc_df.join(height_df, patient_calc_df.PatientId == height_df.Subject) \\\n",
    "                   .drop(col(\"Subject\"))\n",
    "\n",
    "#Calculate and join average BMI by patient\n",
    "bmi_df = getAvgForLoinc(\"%39156-5%\", \"BMI\", observationDataFrame_loinc)\n",
    "    \n",
    "patient_calc_df = patient_calc_df.join(bmi_df, patient_calc_df.PatientId == bmi_df.Subject) \\\n",
    "                   .drop(col(\"Subject\"))\n",
    "\n",
    "#Calculate and join average cholesterol by patient\n",
    "cholesterol_df = getAvgForLoinc(\"%2093-3%\", \"Total Cholesterol\", observationDataFrame_loinc)\n",
    "\n",
    "patient_calc_df = patient_calc_df.join(cholesterol_df, patient_calc_df.PatientId == cholesterol_df.Subject) \\\n",
    "                   .drop(col(\"Subject\"))\n"
   ]
  },
  {
   "cell_type": "code",
   "execution_count": 17,
   "metadata": {},
   "outputs": [],
   "source": [
    "asthma_dataset = patient_calc_df.drop(\"PatientId\", \"Disease\", \"PostalCode\", \"birthdate\", \"Diagnosed Date\").na.drop()"
   ]
  },
  {
   "cell_type": "code",
   "execution_count": 18,
   "metadata": {},
   "outputs": [
    {
     "data": {
      "text/plain": [
       "['Asthma',\n",
       " 'Diastolic BP',\n",
       " 'Systolic BP',\n",
       " 'BP',\n",
       " 'Body Weight',\n",
       " 'Marital Status',\n",
       " 'Gender',\n",
       " 'Age',\n",
       " 'Triglycerides',\n",
       " 'Estimated Glomerular Filtration Rate',\n",
       " 'Low Density Lipoprotein',\n",
       " 'High Density Lipoprotein Cholesterol',\n",
       " 'Body Height',\n",
       " 'BMI',\n",
       " 'Total Cholesterol']"
      ]
     },
     "execution_count": 18,
     "metadata": {},
     "output_type": "execute_result"
    }
   ],
   "source": [
    "asthma_dataset.schema.names"
   ]
  },
  {
   "cell_type": "code",
   "execution_count": 19,
   "metadata": {},
   "outputs": [
    {
     "data": {
      "text/plain": [
       "DataFrame[Asthma: int, Diastolic BP: decimal(38,3), Systolic BP: decimal(38,3), BP: decimal(38,3), Body Weight: decimal(38,3), Marital Status: string, Gender: string, Age: double, Triglycerides: decimal(38,3), Estimated Glomerular Filtration Rate: decimal(38,0), Low Density Lipoprotein: decimal(38,3), High Density Lipoprotein Cholesterol: decimal(38,3), Body Height: decimal(38,3), BMI: decimal(38,3), Total Cholesterol: decimal(38,3)]"
      ]
     },
     "execution_count": 19,
     "metadata": {},
     "output_type": "execute_result"
    }
   ],
   "source": [
    "asthma_dataset.cache()"
   ]
  },
  {
   "cell_type": "code",
   "execution_count": 20,
   "metadata": {},
   "outputs": [
    {
     "name": "stdout",
     "output_type": "stream",
     "text": [
      "+------+------------+-----------+-------+-----------+--------------+------+-----+-------------+------------------------------------+-----------------------+------------------------------------+-----------+------+-----------------+\n",
      "|Asthma|Diastolic BP|Systolic BP|     BP|Body Weight|Marital Status|Gender|  Age|Triglycerides|Estimated Glomerular Filtration Rate|Low Density Lipoprotein|High Density Lipoprotein Cholesterol|Body Height|   BMI|Total Cholesterol|\n",
      "+------+------------+-----------+-------+-----------+--------------+------+-----+-------------+------------------------------------+-----------------------+------------------------------------+-----------+------+-----------------+\n",
      "|     0|      80.909|    117.182| 93.091|     99.586|             M|  MALE| 80.6|      152.346|                                  56|                112.295|                              58.404|    176.700|32.199|          181.052|\n",
      "|     0|      79.303|    122.929| 93.838|     99.777|             S|  MALE|101.6|      172.753|                                  26|                133.308|                              50.281|    186.400|29.335|          215.295|\n",
      "|     0|     107.846|    160.038|125.231|     86.967|             M|  MALE| 40.3|      119.483|                                   9|                 90.165|                              70.103|    173.900|28.825|          184.163|\n",
      "|     1|      78.417|    124.333| 93.667|     78.500|             S|FEMALE| 88.5|      125.007|                                  13|                 79.570|                              72.850|    169.300|27.390|          177.420|\n",
      "|     0|      83.000|    119.625| 95.125|     78.057|             M|FEMALE| 53.5|      141.153|                                  80|                106.980|                              64.061|    164.100|29.374|          181.221|\n",
      "|     1|      74.489|    111.664| 86.875|     65.000|             M|FEMALE| 60.0|      176.109|                                  80|                112.317|                              63.242|    154.200|27.340|          191.616|\n",
      "|     0|      78.743|    117.354| 91.655|     93.342|             M|  MALE| 87.2|      171.408|                                  38|                133.251|                              49.875|    180.000|29.416|          214.840|\n",
      "|     1|      73.693|    119.458| 89.000|     77.300|             M|  MALE| 77.6|      126.036|                                  32|                112.191|                              67.250|    166.300|27.950|          201.869|\n",
      "|     0|      80.286|    115.179| 91.929|     79.300|             M|FEMALE|110.1|      134.892|                                  34|                117.534|                              61.315|    170.300|27.340|          188.932|\n",
      "|     0|      80.221|    119.589| 93.368|     73.700|             S|FEMALE| 76.9|      175.708|                                  22|                135.190|                              49.575|    157.900|29.560|          219.907|\n",
      "|     0|      75.529|    110.892| 87.250|     75.867|             M|  MALE| 47.3|      176.153|                                 112|                142.252|                              45.909|    162.100|28.193|          223.391|\n",
      "|     0|     103.840|    156.360|121.320|     78.900|             M|FEMALE| 46.8|      135.317|                                  10|                 71.027|                              73.487|    170.600|27.110|          171.580|\n",
      "|     0|      77.500|    120.800| 91.900|     78.000|             M|FEMALE| 83.7|      126.115|                                 102|                 87.387|                              71.673|    167.100|27.930|          184.282|\n",
      "|     0|      81.000|    118.400| 93.600|     69.200|             M|FEMALE| 57.4|      114.708|                                 126|                 83.005|                              70.335|    158.100|27.680|          176.283|\n",
      "|     0|      76.818|    122.364| 92.091|     77.267|             M|FEMALE| 67.5|      126.443|                                  17|                 69.998|                              68.778|    164.100|28.701|          164.065|\n",
      "|     0|      81.704|    116.185| 93.148|     72.500|             M|FEMALE| 55.1|      132.437|                                   8|                 81.383|                              68.530|    157.900|28.180|          176.403|\n",
      "|     0|     102.226|    164.387|122.936|     87.725|             M|  MALE| 91.0|      142.241|                                  33|                114.838|                              60.206|    172.500|30.450|          180.497|\n",
      "|     0|     105.140|    157.606|122.622|     79.500|             M|FEMALE| 69.7|      119.557|                                 133|                 85.653|                              68.441|    169.300|27.740|          178.008|\n",
      "|     0|      80.000|    124.100| 94.600|     90.967|             M|FEMALE| 62.2|      202.563|                                  81|                 85.070|                              59.675|    175.500|29.542|          194.823|\n",
      "|     0|      80.417|    112.417| 91.083|     76.400|             M|FEMALE| 59.9|      140.046|                                  71|                108.387|                              61.023|    161.700|29.221|          177.341|\n",
      "+------+------------+-----------+-------+-----------+--------------+------+-----+-------------+------------------------------------+-----------------------+------------------------------------+-----------+------+-----------------+\n",
      "only showing top 20 rows\n",
      "\n"
     ]
    }
   ],
   "source": [
    "asthma_dataset.show()"
   ]
  },
  {
   "cell_type": "code",
   "execution_count": 21,
   "metadata": {},
   "outputs": [
    {
     "data": {
      "text/plain": [
       "1932"
      ]
     },
     "execution_count": 21,
     "metadata": {},
     "output_type": "execute_result"
    }
   ],
   "source": [
    "asthma_dataset.count()"
   ]
  },
  {
   "cell_type": "code",
   "execution_count": 22,
   "metadata": {},
   "outputs": [
    {
     "data": {
      "text/plain": [
       "88"
      ]
     },
     "execution_count": 22,
     "metadata": {},
     "output_type": "execute_result"
    }
   ],
   "source": [
    "asthma_dataset.filter(col(\"Asthma\") == 1).count()"
   ]
  },
  {
   "cell_type": "code",
   "execution_count": 120,
   "metadata": {},
   "outputs": [
    {
     "name": "stdout",
     "output_type": "stream",
     "text": [
      "There are 1529 rows in the training set and 403 in the test set\n"
     ]
    }
   ],
   "source": [
    "trainDF, testDF = asthma_dataset.randomSplit([.8, .2], seed = 42)\n",
    "print(f\"\"\"There are {trainDF.count()} rows in the training set and {testDF.count()} in the test set\"\"\")"
   ]
  },
  {
   "cell_type": "code",
   "execution_count": 121,
   "metadata": {},
   "outputs": [
    {
     "name": "stdout",
     "output_type": "stream",
     "text": [
      "+------+--------------------+\n",
      "|Asthma|             weights|\n",
      "+------+--------------------+\n",
      "|     0|0.050359712230215826|\n",
      "|     0|0.050359712230215826|\n",
      "|     0|0.050359712230215826|\n",
      "|     0|0.050359712230215826|\n",
      "|     0|0.050359712230215826|\n",
      "|     0|0.050359712230215826|\n",
      "|     1|  0.9496402877697842|\n",
      "|     1|  0.9496402877697842|\n",
      "|     1|  0.9496402877697842|\n",
      "|     0|0.050359712230215826|\n",
      "|     0|0.050359712230215826|\n",
      "|     0|0.050359712230215826|\n",
      "|     0|0.050359712230215826|\n",
      "|     0|0.050359712230215826|\n",
      "|     0|0.050359712230215826|\n",
      "|     0|0.050359712230215826|\n",
      "|     0|0.050359712230215826|\n",
      "|     0|0.050359712230215826|\n",
      "|     0|0.050359712230215826|\n",
      "|     0|0.050359712230215826|\n",
      "+------+--------------------+\n",
      "only showing top 20 rows\n",
      "\n"
     ]
    }
   ],
   "source": [
    "num_asthma = trainDF.groupBy(\"Asthma\").count().select(\"count\").filter(col(\"Asthma\") == 1).first()[0]\n",
    "ratio = num_asthma/trainDF.count()\n",
    "\n",
    "trainDF = trainDF.withColumn(\"weights\", F.when(trainDF.Asthma == 1, 1-ratio).otherwise(ratio))\n",
    "trainDF.select(\"Asthma\", \"weights\").show()"
   ]
  },
  {
   "cell_type": "code",
   "execution_count": 45,
   "metadata": {},
   "outputs": [],
   "source": [
    "categoricalCols = [field for (field, dataType) in trainDF.dtypes if dataType == \"string\"]\n",
    "indexOutputCols = [x + \"Index\" for x in categoricalCols]\n",
    "oheOutputCols = [x + \"OHE\" for x in categoricalCols]\n",
    "\n",
    "stringIndexer = StringIndexer(inputCols = categoricalCols, outputCols = indexOutputCols, handleInvalid = \"skip\")\n",
    "oheEncoder = OneHotEncoder(inputCols = indexOutputCols, outputCols = oheOutputCols)\n",
    "\n",
    "numericCols = [field for (field, dataType) in trainDF.dtypes\n",
    "                if dataType != \"string\" and field != \"Asthma\"]\n",
    "\n",
    "assemblerInputs = oheOutputCols + numericCols\n",
    "\n",
    "vecAssembler = VectorAssembler(inputCols = assemblerInputs, outputCol = \"features\")"
   ]
  },
  {
   "cell_type": "code",
   "execution_count": 93,
   "metadata": {},
   "outputs": [
    {
     "name": "stdout",
     "output_type": "stream",
     "text": [
      "Coefficients:\n",
      "             Feature Estimate   Std Error T Value P Value\n",
      "         (Intercept) -13.2290 175066.8659 -0.0001  0.9999\n",
      " Marital StatusOHE_M  24.4880 175066.8653  0.0001  0.9999\n",
      " Marital StatusOHE_S  24.3249 175066.8653  0.0001  0.9999\n",
      "      GenderOHE_MALE   0.1045      0.3411  0.3064  0.7593\n",
      "        Diastolic BP  -0.2342      1.1437 -0.2048  0.8378\n",
      "         Systolic BP  -0.0718      0.5693 -0.1262  0.8996\n",
      "                  BP   0.2955      1.7105  0.1727  0.8629\n",
      "         Body Weight   0.0933      0.0889  1.0491  0.2941\n",
      "                 Age  -0.0199      0.0071 -2.8120  0.0049\n",
      "       Triglycerides  -0.0078      0.0085 -0.9181  0.3585\n",
      "Estimated Glomeru...  -0.0058      0.0037 -1.5669  0.1171\n",
      "Low Density Lipop...   0.0128      0.0207  0.6209  0.5346\n",
      "High Density Lipo...   0.0119      0.0376  0.3179  0.7506\n",
      "         Body Height  -0.1001      0.0890 -1.1245  0.2608\n",
      "                 BMI  -0.2063      0.2578 -0.8001  0.4236\n",
      "   Total Cholesterol   0.0071      0.0177  0.4008  0.6885\n",
      "\n",
      "(Dispersion parameter for binomial family taken to be 1.0000)\n",
      "    Null deviance: 610.2943 on 1513 degrees of freedom\n",
      "Residual deviance: 588.0709 on 1513 degrees of freedom\n",
      "AIC: 620.0709\n",
      "+--------------------+------+--------------------+------+\n",
      "|            features|Asthma|          prediction|Gender|\n",
      "+--------------------+------+--------------------+------+\n",
      "|[0.0,1.0,1.0,79.3...|     0|0.027723057807784383|  MALE|\n",
      "|[1.0,0.0,0.0,83.0...|     0| 0.04416407384658459|FEMALE|\n",
      "|[1.0,0.0,1.0,107....|     0| 0.10824546927482356|  MALE|\n",
      "|[0.0,1.0,1.0,72.4...|     0|  0.0684679258451447|  MALE|\n",
      "|[1.0,0.0,0.0,80.4...|     0| 0.04143820294449127|FEMALE|\n",
      "|[1.0,0.0,0.0,81.0...|     0| 0.03720350921917274|FEMALE|\n",
      "|[1.0,0.0,1.0,75.5...|     0|0.029307932116916183|  MALE|\n",
      "|[0.0,1.0,0.0,81.1...|     0| 0.02538163330666181|FEMALE|\n",
      "|[0.0,1.0,0.0,82.1...|     0| 0.07211080955233137|FEMALE|\n",
      "|[0.0,1.0,0.0,102....|     0|  0.0577237370022642|FEMALE|\n",
      "|[0.0,1.0,1.0,74.1...|     0| 0.10256412169305289|  MALE|\n",
      "|[1.0,0.0,1.0,78.8...|     0| 0.07208528900982071|  MALE|\n",
      "|[0.0,1.0,0.0,80.3...|     0| 0.04130144802908601|FEMALE|\n",
      "|[1.0,0.0,0.0,80.4...|     0| 0.05571465538376633|FEMALE|\n",
      "|[0.0,1.0,1.0,101....|     0|0.057656446063827735|  MALE|\n",
      "|[0.0,1.0,0.0,80.3...|     0|0.029942434611307543|FEMALE|\n",
      "|[1.0,0.0,1.0,82.2...|     0|0.023888672392886546|  MALE|\n",
      "|[1.0,0.0,0.0,79.1...|     0| 0.04546887958123386|FEMALE|\n",
      "|[1.0,0.0,1.0,79.8...|     0| 0.08471247596003245|  MALE|\n",
      "|[1.0,0.0,1.0,76.0...|     0|  0.0302398338099713|  MALE|\n",
      "+--------------------+------+--------------------+------+\n",
      "only showing top 20 rows\n",
      "\n"
     ]
    }
   ],
   "source": [
    "# Train a model one time, see a baseline using Generalized Linear Regression\n",
    "\n",
    "from pyspark.ml.regression import GeneralizedLinearRegression\n",
    "\n",
    "glm = GeneralizedLinearRegression(family = \"binomial\", labelCol = \"Asthma\")\n",
    "glm_pipeline = Pipeline(stages = [stringIndexer, oheEncoder, vecAssembler, glm])\n",
    "\n",
    "glm_model = glm_pipeline.fit(trainDF)\n",
    "predDF = glm_model.transform(testDF)\n",
    "\n",
    "summary = glm_model.stages[-1].summary\n",
    "# print(\"Coefficient Standard Errors: \" + str(summary.coefficientStandardErrors))\n",
    "# print(\"T Values: \" + str(summary.tValues))\n",
    "# print(\"P Values: \" + str(summary.pValues))\n",
    "# print(\"Dispersion: \" + str(summary.dispersion))\n",
    "# print(\"Null Deviance: \" + str(summary.nullDeviance))\n",
    "# print(\"Residual Degree Of Freedom Null: \" + str(summary.residualDegreeOfFreedomNull))\n",
    "# print(\"Deviance: \" + str(summary.deviance))\n",
    "# print(\"Residual Degree Of Freedom: \" + str(summary.residualDegreeOfFreedom))\n",
    "# print(\"AIC: \" + str(summary.aic))\n",
    "# print(\"Deviance Residuals: \")\n",
    "# summary.residuals().show()\n",
    "print(summary)\n",
    "predDF.select(\"features\", \"Asthma\", \"prediction\", \"Gender\").filter(col(\"Asthma\") == 0).show()"
   ]
  },
  {
   "cell_type": "code",
   "execution_count": 94,
   "metadata": {},
   "outputs": [
    {
     "name": "stdout",
     "output_type": "stream",
     "text": [
      "+------+--------------------+\n",
      "|Asthma|          prediction|\n",
      "+------+--------------------+\n",
      "|     0|0.029783300772994462|\n",
      "|     0| 0.04699046728480411|\n",
      "|     0| 0.10640218517911243|\n",
      "|     0| 0.06605361343942258|\n",
      "|     0|0.041614159534607585|\n",
      "|     0| 0.03496235263435109|\n",
      "|     0|0.028905544897366776|\n",
      "|     0|0.026822150745861407|\n",
      "|     1| 0.03620146670867375|\n",
      "|     0| 0.07423212150558435|\n",
      "|     0|0.060717591007468125|\n",
      "|     0| 0.10235409508014114|\n",
      "|     0|  0.0695907155255222|\n",
      "|     0| 0.04301988547916102|\n",
      "|     0|0.055806023761486946|\n",
      "|     0|0.055942429292341965|\n",
      "|     0|0.032881672515543185|\n",
      "|     0|0.024016142561926974|\n",
      "|     0| 0.04000731775756364|\n",
      "|     0| 0.08124987666064394|\n",
      "+------+--------------------+\n",
      "only showing top 20 rows\n",
      "\n"
     ]
    }
   ],
   "source": [
    "# Use CrossValidator to select the best model from 2 possible regParams\n",
    "\n",
    "from pyspark.ml.tuning import CrossValidator, ParamGridBuilder\n",
    "from pyspark.ml.evaluation import RegressionEvaluator\n",
    "\n",
    "paramGrid = ParamGridBuilder() \\\n",
    "    .addGrid(glm.regParam, [0.1, 0.01]) \\\n",
    "    .build()\n",
    "\n",
    "crossval = CrossValidator(estimator=glm_pipeline,\n",
    "                          estimatorParamMaps=paramGrid,\n",
    "                          evaluator=RegressionEvaluator(labelCol = \"Asthma\"),\n",
    "                          numFolds=2\n",
    "                         )  # use 3+ folds in practice\n",
    "\n",
    "# Run cross-validation, and choose the best set of parameters.\n",
    "cvModel = crossval.fit(trainDF)\n",
    "prediction = cvModel.transform(testDF)\n",
    "selected = prediction.select(\"Asthma\", \"prediction\").show()"
   ]
  },
  {
   "cell_type": "code",
   "execution_count": 97,
   "metadata": {},
   "outputs": [
    {
     "name": "stdout",
     "output_type": "stream",
     "text": [
      "Coefficients:\n",
      "             Feature Estimate Std Error T Value P Value\n",
      "         (Intercept)   5.7314   12.7231  0.4505  0.6524\n",
      " Marital StatusOHE_M   0.0897    0.2915  0.3075  0.7584\n",
      " Marital StatusOHE_S  -0.0373    0.2927 -0.1273  0.8987\n",
      "      GenderOHE_MALE   0.0486    0.2506  0.1937  0.8464\n",
      "        Diastolic BP  -0.0345    0.1994 -0.1728  0.8628\n",
      "         Systolic BP   0.0263    0.1026  0.2567  0.7974\n",
      "                  BP  -0.0018    0.2944 -0.0063  0.9950\n",
      "         Body Weight   0.0635    0.0714  0.8895  0.3737\n",
      "                 Age  -0.0193    0.0070 -2.7507  0.0059\n",
      "       Triglycerides  -0.0075    0.0085 -0.8893  0.3738\n",
      "Estimated Glomeru...  -0.0058    0.0037 -1.5672  0.1171\n",
      "Low Density Lipop...   0.0126    0.0206  0.6126  0.5401\n",
      "High Density Lipo...   0.0130    0.0374  0.3473  0.7284\n",
      "         Body Height  -0.0684    0.0716 -0.9552  0.3395\n",
      "                 BMI  -0.1197    0.2052 -0.5831  0.5598\n",
      "   Total Cholesterol   0.0068    0.0177  0.3822  0.7023\n",
      "\n",
      "(Dispersion parameter for binomial family taken to be 1.0000)\n",
      "    Null deviance: 610.2943 on 1513 degrees of freedom\n",
      "Residual deviance: 589.0726 on 1513 degrees of freedom\n",
      "AIC: 621.0726\n"
     ]
    }
   ],
   "source": [
    "# Print the summary (need help interpreting this)\n",
    "\n",
    "trainingSummary = cvModel.bestModel.stages[-1].summary\n",
    "\n",
    "print(trainingSummary)"
   ]
  },
  {
   "cell_type": "code",
   "execution_count": 122,
   "metadata": {},
   "outputs": [
    {
     "name": "stdout",
     "output_type": "stream",
     "text": [
      "Coefficients: [0.073896295438675,-0.057422534518305784,0.011285497491574138,-0.0014736999879823897,0.002647984985692054,0.0007746682168225125,0.0035683485073375034,-0.020264845026867154,-0.004614199175387661,-0.00672409518201063,0.003385291050491452,0.0017065268726461154,-0.007049002913473207,0.03312108946544834,0.007591461447243598]\n",
      "Intercept: -0.0018476508199910912\n",
      "<pyspark.ml.classification.BinaryLogisticRegressionTrainingSummary object at 0x11fb82670>\n",
      "+--------------------+------+----------+\n",
      "|            features|Asthma|prediction|\n",
      "+--------------------+------+----------+\n",
      "|[0.0,1.0,1.0,79.3...|     0|       1.0|\n",
      "|[1.0,0.0,0.0,83.0...|     0|       1.0|\n",
      "|[1.0,0.0,1.0,107....|     0|       1.0|\n",
      "|[0.0,1.0,1.0,72.4...|     0|       1.0|\n",
      "|[1.0,0.0,0.0,80.4...|     0|       1.0|\n",
      "|[1.0,0.0,0.0,81.0...|     0|       1.0|\n",
      "|[1.0,0.0,1.0,75.5...|     0|       1.0|\n",
      "|[0.0,1.0,0.0,81.1...|     0|       1.0|\n",
      "|[1.0,0.0,0.0,80.0...|     1|       1.0|\n",
      "|[0.0,1.0,0.0,82.1...|     0|       1.0|\n",
      "|[0.0,1.0,0.0,102....|     0|       1.0|\n",
      "|[0.0,1.0,1.0,74.1...|     0|       1.0|\n",
      "|[1.0,0.0,1.0,78.8...|     0|       1.0|\n",
      "|[0.0,1.0,0.0,80.3...|     0|       1.0|\n",
      "|[1.0,0.0,0.0,80.4...|     0|       1.0|\n",
      "|[0.0,1.0,1.0,101....|     0|       1.0|\n",
      "|[0.0,1.0,0.0,80.3...|     0|       1.0|\n",
      "|[1.0,0.0,1.0,82.2...|     0|       1.0|\n",
      "|[1.0,0.0,0.0,79.1...|     0|       1.0|\n",
      "|[1.0,0.0,1.0,79.8...|     0|       1.0|\n",
      "+--------------------+------+----------+\n",
      "only showing top 20 rows\n",
      "\n"
     ]
    }
   ],
   "source": [
    "# Try a \"default\" Logistic Regression\n",
    "from pyspark.ml.classification import LogisticRegression\n",
    "\n",
    "lr = LogisticRegression(labelCol = \"Asthma\", featuresCol = \"features\", maxIter=10, weightCol = \"weights\")\n",
    "lr.setThreshold(bestThreshold)\n",
    "pipeline = Pipeline(stages = [stringIndexer, oheEncoder, vecAssembler, lr])\n",
    "\n",
    "# Fit the model\n",
    "lrModel = pipeline.fit(trainDF)\n",
    "\n",
    "# Print the coefficients and intercept for logistic regression\n",
    "print(\"Coefficients: \" + str(lrModel.stages[-1].coefficients))\n",
    "print(\"Intercept: \" + str(lrModel.stages[-1].intercept))\n",
    "\n",
    "print(lrModel.stages[-1].summary)\n",
    "\n",
    "\n",
    "predDF = lrModel.transform(testDF)\n",
    "\n",
    "predDF.select(\"features\", \"Asthma\", \"prediction\").show()"
   ]
  },
  {
   "cell_type": "code",
   "execution_count": 63,
   "metadata": {},
   "outputs": [
    {
     "name": "stdout",
     "output_type": "stream",
     "text": [
      "objectiveHistory:\n",
      "0.19957303511063312\n",
      "+---+---+\n",
      "|FPR|TPR|\n",
      "+---+---+\n",
      "|0.0|0.0|\n",
      "|1.0|1.0|\n",
      "|1.0|1.0|\n",
      "+---+---+\n",
      "\n",
      "areaUnderROC: 0.5\n",
      "0.050359712230215826\n"
     ]
    },
    {
     "data": {
      "text/plain": [
       "LogisticRegression_51da4cc72fda"
      ]
     },
     "execution_count": 63,
     "metadata": {},
     "output_type": "execute_result"
    }
   ],
   "source": [
    "### DON'T REALLY KNOW WHAT THIS DOES - it seems like 'lr.setThreshold' is supposed to improve the prediction ability\n",
    "\n",
    "# # Extract the summary from the returned LogisticRegressionModel instance trained\n",
    "# # in the earlier example\n",
    "# trainingSummary = lrModel.stages[-1].summary\n",
    "\n",
    "# # Obtain the objective per iteration\n",
    "# objectiveHistory = trainingSummary.objectiveHistory\n",
    "# print(\"objectiveHistory:\")\n",
    "# for objective in objectiveHistory:\n",
    "#     print(objective)\n",
    "\n",
    "# # Obtain the receiver-operating characteristic as a dataframe and areaUnderROC.\n",
    "# trainingSummary.roc.show()\n",
    "# print(\"areaUnderROC: \" + str(trainingSummary.areaUnderROC))\n",
    "\n",
    "# # Set the model threshold to maximize F-Measure\n",
    "# fMeasure = trainingSummary.fMeasureByThreshold\n",
    "# maxFMeasure = fMeasure.groupBy().max('F-Measure').select('max(F-Measure)').head()\n",
    "# bestThreshold = fMeasure.where(fMeasure['F-Measure'] == maxFMeasure['max(F-Measure)']) \\\n",
    "#     .select('threshold').head()['threshold']\n",
    "# print(bestThreshold)\n",
    "# lr.setThreshold(bestThreshold)"
   ]
  },
  {
   "cell_type": "code",
   "execution_count": 123,
   "metadata": {},
   "outputs": [
    {
     "name": "stdout",
     "output_type": "stream",
     "text": [
      "+------+----------+\n",
      "|Asthma|prediction|\n",
      "+------+----------+\n",
      "|     1|       1.0|\n",
      "|     1|       1.0|\n",
      "|     1|       1.0|\n",
      "|     1|       1.0|\n",
      "|     1|       1.0|\n",
      "|     1|       1.0|\n",
      "|     1|       1.0|\n",
      "|     1|       1.0|\n",
      "|     1|       1.0|\n",
      "|     1|       1.0|\n",
      "|     1|       1.0|\n",
      "+------+----------+\n",
      "\n"
     ]
    }
   ],
   "source": [
    "from pyspark.ml.tuning import CrossValidator, ParamGridBuilder\n",
    "from pyspark.ml.evaluation import BinaryClassificationEvaluator\n",
    "\n",
    "paramGrid = ParamGridBuilder() \\\n",
    "    .addGrid(lr.regParam, [0.1, 0.01]) \\\n",
    "    .build()\n",
    "\n",
    "crossval = CrossValidator(estimator=pipeline,\n",
    "                          estimatorParamMaps=paramGrid,\n",
    "                          evaluator=BinaryClassificationEvaluator(labelCol = \"Asthma\"),\n",
    "                          numFolds=2\n",
    "                         )  # use 3+ folds in practice\n",
    "\n",
    "# Run cross-validation, and choose the best set of parameters.\n",
    "cvModel = crossval.fit(trainDF)\n",
    "prediction = cvModel.transform(testDF)\n",
    "selected = prediction.select(\"Asthma\", \"prediction\").where(col(\"Asthma\") == 1).show()"
   ]
  },
  {
   "cell_type": "code",
   "execution_count": 124,
   "metadata": {},
   "outputs": [
    {
     "data": {
      "image/png": "[encoded data removed]",
      "text/plain": [
       "<Figure size 432x288 with 1 Axes>"
      ]
     },
     "metadata": {
      "needs_background": "light"
     },
     "output_type": "display_data"
    },
    {
     "name": "stdout",
     "output_type": "stream",
     "text": [
      "Training set areaUnderROC for untuned model: 0.6438857285964724\n"
     ]
    },
    {
     "data": {
      "image/png": "[encoded data removed]",
      "text/plain": [
       "<Figure size 432x288 with 1 Axes>"
      ]
     },
     "metadata": {
      "needs_background": "light"
     },
     "output_type": "display_data"
    },
    {
     "name": "stdout",
     "output_type": "stream",
     "text": [
      "Training set areaUnderROC for BEST model: 0.643232800257594\n"
     ]
    }
   ],
   "source": [
    "roc = lrModel.stages[-1].summary.roc.toPandas()\n",
    "plt.plot(roc['FPR'],roc['TPR'])\n",
    "plt.ylabel('False Positive Rate')\n",
    "plt.xlabel('True Positive Rate')\n",
    "plt.title('ROC Curve')\n",
    "plt.show()\n",
    "print('Training set areaUnderROC for untuned model: ' + str(lrModel.stages[-1].summary.areaUnderROC))\n",
    "\n",
    "roc = cvModel.bestModel.stages[-1].summary.roc.toPandas()\n",
    "plt.plot(roc['FPR'],roc['TPR'])\n",
    "plt.ylabel('False Positive Rate')\n",
    "plt.xlabel('True Positive Rate')\n",
    "plt.title('ROC Curve')\n",
    "plt.show()\n",
    "print('Training set areaUnderROC for BEST model: ' + str(cvModel.bestModel.stages[-1].summary.areaUnderROC))"
   ]
  },
  {
   "cell_type": "code",
   "execution_count": 125,
   "metadata": {},
   "outputs": [
    {
     "name": "stdout",
     "output_type": "stream",
     "text": [
      "Coefficients: [0.0738962954386773,-0.05742253451830661,0.011285497491578611,-0.0014736999879825796,0.0026479849856921524,0.0007746682168224614,0.003568348507337677,-0.02026484502686723,-0.004614199175387837,-0.006724095182010805,0.0033852910504915926,0.0017065268726460115,-0.00704900291347307,0.03312108946544751,0.007591461447243688]\n",
      "Intercept: -0.00184765081999114\n",
      "<pyspark.ml.classification.BinaryLogisticRegressionTrainingSummary object at 0x11f2be910>\n",
      "+--------------------+------+----------+\n",
      "|            features|Asthma|prediction|\n",
      "+--------------------+------+----------+\n",
      "|[0.0,1.0,1.0,79.3...|     0|       1.0|\n",
      "|[1.0,0.0,0.0,83.0...|     0|       1.0|\n",
      "|[1.0,0.0,1.0,107....|     0|       1.0|\n",
      "|[0.0,1.0,1.0,72.4...|     0|       1.0|\n",
      "|[1.0,0.0,0.0,80.4...|     0|       1.0|\n",
      "|[1.0,0.0,0.0,81.0...|     0|       1.0|\n",
      "|[1.0,0.0,1.0,75.5...|     0|       1.0|\n",
      "|[0.0,1.0,0.0,81.1...|     0|       1.0|\n",
      "|[1.0,0.0,0.0,80.0...|     1|       1.0|\n",
      "|[0.0,1.0,0.0,82.1...|     0|       1.0|\n",
      "|[0.0,1.0,0.0,102....|     0|       1.0|\n",
      "|[0.0,1.0,1.0,74.1...|     0|       1.0|\n",
      "|[1.0,0.0,1.0,78.8...|     0|       1.0|\n",
      "|[0.0,1.0,0.0,80.3...|     0|       1.0|\n",
      "|[1.0,0.0,0.0,80.4...|     0|       1.0|\n",
      "|[0.0,1.0,1.0,101....|     0|       1.0|\n",
      "|[0.0,1.0,0.0,80.3...|     0|       1.0|\n",
      "|[1.0,0.0,1.0,82.2...|     0|       1.0|\n",
      "|[1.0,0.0,0.0,79.1...|     0|       1.0|\n",
      "|[1.0,0.0,1.0,79.8...|     0|       1.0|\n",
      "+--------------------+------+----------+\n",
      "only showing top 20 rows\n",
      "\n"
     ]
    }
   ],
   "source": [
    "from pyspark.ml.classification import LogisticRegression\n",
    "\n",
    "lr = LogisticRegression(labelCol = \"Asthma\", featuresCol = \"features\", maxIter=10, elasticNetParam = 1, weightCol = \"weights\")\n",
    "lr.setThreshold(bestThreshold)\n",
    "pipeline = Pipeline(stages = [stringIndexer, oheEncoder, vecAssembler, lr])\n",
    "\n",
    "# Fit the model\n",
    "lrModel = pipeline.fit(trainDF)\n",
    "\n",
    "# Print the coefficients and intercept for logistic regression\n",
    "print(\"Coefficients: \" + str(lrModel.stages[-1].coefficients))\n",
    "print(\"Intercept: \" + str(lrModel.stages[-1].intercept))\n",
    "\n",
    "print(str(lrModel.stages[-1].summary))\n",
    "\n",
    "predDF = lrModel.transform(testDF)\n",
    "\n",
    "predDF.select(\"features\", \"Asthma\", \"prediction\").show()"
   ]
  },
  {
   "cell_type": "code",
   "execution_count": 90,
   "metadata": {},
   "outputs": [
    {
     "name": "stdout",
     "output_type": "stream",
     "text": [
      "objectiveHistory:\n",
      "0.19957303511063318\n",
      "0.1980360786879265\n",
      "0.19578566738076192\n",
      "0.19466842298268786\n",
      "0.19461072037354482\n",
      "0.19459174145089056\n",
      "0.19453652813550298\n",
      "0.1944161920721103\n",
      "0.19415990153974613\n",
      "0.19379948169880457\n",
      "0.19341199995275676\n",
      "+--------------------+--------------------+\n",
      "|                 FPR|                 TPR|\n",
      "+--------------------+--------------------+\n",
      "|                 0.0|                 0.0|\n",
      "|0.003443526170798898|0.025974025974025976|\n",
      "|0.008953168044077135|0.025974025974025976|\n",
      "|0.013774104683195593|0.025974025974025976|\n",
      "| 0.01859504132231405| 0.03896103896103896|\n",
      "|0.022727272727272728| 0.06493506493506493|\n",
      "|0.026859504132231406| 0.07792207792207792|\n",
      "| 0.03168044077134986| 0.09090909090909091|\n",
      "|  0.0371900826446281| 0.09090909090909091|\n",
      "| 0.04201101928374656| 0.09090909090909091|\n",
      "|0.046831955922865015|  0.1038961038961039|\n",
      "| 0.05165289256198347| 0.11688311688311688|\n",
      "| 0.05647382920110193| 0.11688311688311688|\n",
      "| 0.06129476584022039| 0.12987012987012986|\n",
      "| 0.06542699724517906| 0.14285714285714285|\n",
      "| 0.07024793388429752| 0.15584415584415584|\n",
      "| 0.07506887052341597| 0.16883116883116883|\n",
      "| 0.07851239669421488| 0.19480519480519481|\n",
      "| 0.08333333333333333|  0.2077922077922078|\n",
      "| 0.08884297520661157|  0.2077922077922078|\n",
      "+--------------------+--------------------+\n",
      "only showing top 20 rows\n",
      "\n",
      "areaUnderROC: 0.6430762763407388\n",
      "0.06464199727256775\n"
     ]
    },
    {
     "data": {
      "text/plain": [
       "LogisticRegression_9c1ea554150c"
      ]
     },
     "execution_count": 90,
     "metadata": {},
     "output_type": "execute_result"
    }
   ],
   "source": [
    "### DON'T REALLY KNOW WHAT THIS DOES - it seems like 'lr.setThreshold' is supposed to improve the prediction ability\n",
    "\n",
    "# # Extract the summary from the returned LogisticRegressionModel instance trained\n",
    "# # in the earlier example\n",
    "# trainingSummary = lrModel.stages[-1].summary\n",
    "\n",
    "# # Obtain the objective per iteration\n",
    "# objectiveHistory = trainingSummary.objectiveHistory\n",
    "# print(\"objectiveHistory:\")\n",
    "# for objective in objectiveHistory:\n",
    "#     print(objective)\n",
    "\n",
    "# # Obtain the receiver-operating characteristic as a dataframe and areaUnderROC.\n",
    "# trainingSummary.roc.show()\n",
    "# print(\"areaUnderROC: \" + str(trainingSummary.areaUnderROC))\n",
    "\n",
    "# # Set the model threshold to maximize F-Measure\n",
    "# fMeasure = trainingSummary.fMeasureByThreshold\n",
    "# maxFMeasure = fMeasure.groupBy().max('F-Measure').select('max(F-Measure)').head()\n",
    "# bestThreshold = fMeasure.where(fMeasure['F-Measure'] == maxFMeasure['max(F-Measure)']) \\\n",
    "#     .select('threshold').head()['threshold']\n",
    "# print(bestThreshold)\n",
    "# lr.setThreshold(bestThreshold)"
   ]
  },
  {
   "cell_type": "code",
   "execution_count": 128,
   "metadata": {},
   "outputs": [
    {
     "name": "stdout",
     "output_type": "stream",
     "text": [
      "+------+----------+\n",
      "|Asthma|prediction|\n",
      "+------+----------+\n",
      "|     1|       1.0|\n",
      "|     1|       1.0|\n",
      "|     1|       1.0|\n",
      "|     1|       1.0|\n",
      "|     1|       1.0|\n",
      "|     1|       1.0|\n",
      "|     1|       1.0|\n",
      "|     1|       1.0|\n",
      "|     1|       1.0|\n",
      "|     1|       1.0|\n",
      "|     1|       1.0|\n",
      "+------+----------+\n",
      "\n"
     ]
    }
   ],
   "source": [
    "from pyspark.ml.tuning import CrossValidator, ParamGridBuilder\n",
    "from pyspark.ml.evaluation import BinaryClassificationEvaluator\n",
    "\n",
    "paramGrid = ParamGridBuilder() \\\n",
    "    .addGrid(lr.regParam, [0.1, 0.01, 0.05, .3]) \\\n",
    "    .build()\n",
    "\n",
    "crossval = CrossValidator(estimator=pipeline,\n",
    "                          estimatorParamMaps=paramGrid,\n",
    "                          evaluator=BinaryClassificationEvaluator(labelCol = \"Asthma\"),\n",
    "                          numFolds=2\n",
    "                         )  # use 3+ folds in practice\n",
    "\n",
    "# Run cross-validation, and choose the best set of parameters.\n",
    "cvModel = crossval.fit(trainDF)\n",
    "prediction = cvModel.transform(testDF)\n",
    "selected = prediction.select(\"Asthma\", \"prediction\").where(col(\"Asthma\") == 1).show()"
   ]
  },
  {
   "cell_type": "code",
   "execution_count": 129,
   "metadata": {},
   "outputs": [
    {
     "data": {
      "image/png": "[encoded data removed]",
      "text/plain": [
       "<Figure size 432x288 with 1 Axes>"
      ]
     },
     "metadata": {
      "needs_background": "light"
     },
     "output_type": "display_data"
    },
    {
     "name": "stdout",
     "output_type": "stream",
     "text": [
      "Training set areaUnderROC for untuned model: 0.6438857285964724\n"
     ]
    },
    {
     "data": {
      "image/png": "[encoded data removed]",
      "text/plain": [
       "<Figure size 432x288 with 1 Axes>"
      ]
     },
     "metadata": {
      "needs_background": "light"
     },
     "output_type": "display_data"
    },
    {
     "name": "stdout",
     "output_type": "stream",
     "text": [
      "Training set areaUnderROC for BEST model: 0.6333583771600304\n"
     ]
    }
   ],
   "source": [
    "roc = lrModel.stages[-1].summary.roc.toPandas()\n",
    "plt.plot(roc['FPR'],roc['TPR'])\n",
    "plt.ylabel('False Positive Rate')\n",
    "plt.xlabel('True Positive Rate')\n",
    "plt.title('ROC Curve')\n",
    "plt.show()\n",
    "print('Training set areaUnderROC for untuned model: ' + str(lrModel.stages[-1].summary.areaUnderROC))\n",
    "\n",
    "roc = cvModel.bestModel.stages[-1].summary.roc.toPandas()\n",
    "plt.plot(roc['FPR'],roc['TPR'])\n",
    "plt.ylabel('False Positive Rate')\n",
    "plt.xlabel('True Positive Rate')\n",
    "plt.title('ROC Curve')\n",
    "plt.show()\n",
    "print('Training set areaUnderROC for BEST model: ' + str(cvModel.bestModel.stages[-1].summary.areaUnderROC))"
   ]
  },
  {
   "cell_type": "code",
   "execution_count": null,
   "metadata": {},
   "outputs": [],
   "source": []
  }
 ],
 "metadata": {
  "kernelspec": {
   "display_name": "Python 3",
   "language": "python",
   "name": "python3"
  },
  "language_info": {
   "codemirror_mode": {
    "name": "ipython",
    "version": 3
   },
   "file_extension": ".py",
   "mimetype": "text/x-python",
   "name": "python",
   "nbconvert_exporter": "python",
   "pygments_lexer": "ipython3",
   "version": "3.8.5"
  }
 },
 "nbformat": 4,
 "nbformat_minor": 4
}
